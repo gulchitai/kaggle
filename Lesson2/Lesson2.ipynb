{
 "cells": [
  {
   "cell_type": "code",
   "execution_count": 28,
   "metadata": {},
   "outputs": [],
   "source": [
    "from typing import List, Optional, Tuple\n",
    "\n",
    "import numpy as np\n",
    "import pandas as pd\n",
    "import matplotlib as mpl\n",
    "import matplotlib.pyplot as plt\n",
    "import seaborn as sns\n",
    "\n",
    "import scipy.stats as st\n",
    "\n",
    "from sklearn.metrics import roc_auc_score, roc_auc_score\n",
    "from sklearn.ensemble import RandomForestRegressor\n",
    "from sklearn.model_selection import KFold, StratifiedKFold, train_test_split, cross_val_score\n",
    "from sklearn.utils.validation import check_is_fitted\n",
    "import xgboost as xgb\n",
    "%matplotlib inline"
   ]
  },
  {
   "cell_type": "code",
   "execution_count": 2,
   "metadata": {},
   "outputs": [
    {
     "name": "stdout",
     "output_type": "stream",
     "text": [
      "train.shape = 50001 rows, 394 cols\n",
      "test.shape = 75000 rows, 394 cols\n"
     ]
    }
   ],
   "source": [
    "train = pd.read_csv(\"assignment_train.csv\")\n",
    "test = pd.read_csv(\"assignment_test.csv\")\n",
    "\n",
    "print(\"train.shape = {} rows, {} cols\".format(*train.shape))\n",
    "print(\"test.shape = {} rows, {} cols\".format(*test.shape))"
   ]
  },
  {
   "cell_type": "code",
   "execution_count": 3,
   "metadata": {},
   "outputs": [
    {
     "data": {
      "text/html": [
       "<div>\n",
       "<style scoped>\n",
       "    .dataframe tbody tr th:only-of-type {\n",
       "        vertical-align: middle;\n",
       "    }\n",
       "\n",
       "    .dataframe tbody tr th {\n",
       "        vertical-align: top;\n",
       "    }\n",
       "\n",
       "    .dataframe thead th {\n",
       "        text-align: right;\n",
       "    }\n",
       "</style>\n",
       "<table border=\"1\" class=\"dataframe\">\n",
       "  <thead>\n",
       "    <tr style=\"text-align: right;\">\n",
       "      <th></th>\n",
       "      <th>TransactionID</th>\n",
       "      <th>isFraud</th>\n",
       "      <th>TransactionDT</th>\n",
       "      <th>TransactionAmt</th>\n",
       "      <th>card1</th>\n",
       "      <th>card2</th>\n",
       "      <th>card3</th>\n",
       "      <th>card5</th>\n",
       "      <th>addr1</th>\n",
       "      <th>addr2</th>\n",
       "      <th>...</th>\n",
       "      <th>V330</th>\n",
       "      <th>V331</th>\n",
       "      <th>V332</th>\n",
       "      <th>V333</th>\n",
       "      <th>V334</th>\n",
       "      <th>V335</th>\n",
       "      <th>V336</th>\n",
       "      <th>V337</th>\n",
       "      <th>V338</th>\n",
       "      <th>V339</th>\n",
       "    </tr>\n",
       "  </thead>\n",
       "  <tbody>\n",
       "    <tr>\n",
       "      <th>count</th>\n",
       "      <td>5.000100e+04</td>\n",
       "      <td>50001.000000</td>\n",
       "      <td>5.000100e+04</td>\n",
       "      <td>50001.000000</td>\n",
       "      <td>50001.000000</td>\n",
       "      <td>49304.000000</td>\n",
       "      <td>49998.000000</td>\n",
       "      <td>49766.000000</td>\n",
       "      <td>47410.000000</td>\n",
       "      <td>47410.000000</td>\n",
       "      <td>...</td>\n",
       "      <td>12268.000000</td>\n",
       "      <td>12268.000000</td>\n",
       "      <td>12268.000000</td>\n",
       "      <td>12268.000000</td>\n",
       "      <td>12268.000000</td>\n",
       "      <td>12268.000000</td>\n",
       "      <td>12268.000000</td>\n",
       "      <td>12268.000000</td>\n",
       "      <td>12268.000000</td>\n",
       "      <td>12268.000000</td>\n",
       "    </tr>\n",
       "    <tr>\n",
       "      <th>mean</th>\n",
       "      <td>3.012000e+06</td>\n",
       "      <td>0.027139</td>\n",
       "      <td>6.378101e+05</td>\n",
       "      <td>128.129726</td>\n",
       "      <td>9912.598368</td>\n",
       "      <td>366.635547</td>\n",
       "      <td>152.803612</td>\n",
       "      <td>200.704276</td>\n",
       "      <td>291.813162</td>\n",
       "      <td>85.590593</td>\n",
       "      <td>...</td>\n",
       "      <td>0.110450</td>\n",
       "      <td>38.942391</td>\n",
       "      <td>63.051814</td>\n",
       "      <td>45.816241</td>\n",
       "      <td>4.252527</td>\n",
       "      <td>14.926426</td>\n",
       "      <td>7.991718</td>\n",
       "      <td>15.742603</td>\n",
       "      <td>21.362671</td>\n",
       "      <td>16.464481</td>\n",
       "    </tr>\n",
       "    <tr>\n",
       "      <th>std</th>\n",
       "      <td>1.443419e+04</td>\n",
       "      <td>0.162491</td>\n",
       "      <td>3.229461e+05</td>\n",
       "      <td>213.078011</td>\n",
       "      <td>4904.597980</td>\n",
       "      <td>159.057800</td>\n",
       "      <td>10.482210</td>\n",
       "      <td>40.299048</td>\n",
       "      <td>104.991697</td>\n",
       "      <td>6.687334</td>\n",
       "      <td>...</td>\n",
       "      <td>0.469788</td>\n",
       "      <td>190.465893</td>\n",
       "      <td>446.405097</td>\n",
       "      <td>210.319262</td>\n",
       "      <td>46.694625</td>\n",
       "      <td>105.561868</td>\n",
       "      <td>60.584452</td>\n",
       "      <td>91.083819</td>\n",
       "      <td>131.071046</td>\n",
       "      <td>92.726771</td>\n",
       "    </tr>\n",
       "    <tr>\n",
       "      <th>min</th>\n",
       "      <td>2.987000e+06</td>\n",
       "      <td>0.000000</td>\n",
       "      <td>8.640000e+04</td>\n",
       "      <td>0.292000</td>\n",
       "      <td>1001.000000</td>\n",
       "      <td>100.000000</td>\n",
       "      <td>100.000000</td>\n",
       "      <td>100.000000</td>\n",
       "      <td>100.000000</td>\n",
       "      <td>13.000000</td>\n",
       "      <td>...</td>\n",
       "      <td>0.000000</td>\n",
       "      <td>0.000000</td>\n",
       "      <td>0.000000</td>\n",
       "      <td>0.000000</td>\n",
       "      <td>0.000000</td>\n",
       "      <td>0.000000</td>\n",
       "      <td>0.000000</td>\n",
       "      <td>0.000000</td>\n",
       "      <td>0.000000</td>\n",
       "      <td>0.000000</td>\n",
       "    </tr>\n",
       "    <tr>\n",
       "      <th>25%</th>\n",
       "      <td>2.999500e+06</td>\n",
       "      <td>0.000000</td>\n",
       "      <td>3.523050e+05</td>\n",
       "      <td>42.000000</td>\n",
       "      <td>6019.000000</td>\n",
       "      <td>208.000000</td>\n",
       "      <td>150.000000</td>\n",
       "      <td>166.000000</td>\n",
       "      <td>204.000000</td>\n",
       "      <td>87.000000</td>\n",
       "      <td>...</td>\n",
       "      <td>0.000000</td>\n",
       "      <td>0.000000</td>\n",
       "      <td>0.000000</td>\n",
       "      <td>0.000000</td>\n",
       "      <td>0.000000</td>\n",
       "      <td>0.000000</td>\n",
       "      <td>0.000000</td>\n",
       "      <td>0.000000</td>\n",
       "      <td>0.000000</td>\n",
       "      <td>0.000000</td>\n",
       "    </tr>\n",
       "    <tr>\n",
       "      <th>50%</th>\n",
       "      <td>3.012000e+06</td>\n",
       "      <td>0.000000</td>\n",
       "      <td>6.537500e+05</td>\n",
       "      <td>68.500000</td>\n",
       "      <td>9705.000000</td>\n",
       "      <td>369.000000</td>\n",
       "      <td>150.000000</td>\n",
       "      <td>226.000000</td>\n",
       "      <td>299.000000</td>\n",
       "      <td>87.000000</td>\n",
       "      <td>...</td>\n",
       "      <td>0.000000</td>\n",
       "      <td>0.000000</td>\n",
       "      <td>0.000000</td>\n",
       "      <td>0.000000</td>\n",
       "      <td>0.000000</td>\n",
       "      <td>0.000000</td>\n",
       "      <td>0.000000</td>\n",
       "      <td>0.000000</td>\n",
       "      <td>0.000000</td>\n",
       "      <td>0.000000</td>\n",
       "    </tr>\n",
       "    <tr>\n",
       "      <th>75%</th>\n",
       "      <td>3.024500e+06</td>\n",
       "      <td>0.000000</td>\n",
       "      <td>9.321340e+05</td>\n",
       "      <td>120.000000</td>\n",
       "      <td>14265.000000</td>\n",
       "      <td>514.000000</td>\n",
       "      <td>150.000000</td>\n",
       "      <td>226.000000</td>\n",
       "      <td>330.000000</td>\n",
       "      <td>87.000000</td>\n",
       "      <td>...</td>\n",
       "      <td>0.000000</td>\n",
       "      <td>0.000000</td>\n",
       "      <td>0.000000</td>\n",
       "      <td>0.000000</td>\n",
       "      <td>0.000000</td>\n",
       "      <td>0.000000</td>\n",
       "      <td>0.000000</td>\n",
       "      <td>0.000000</td>\n",
       "      <td>0.000000</td>\n",
       "      <td>0.000000</td>\n",
       "    </tr>\n",
       "    <tr>\n",
       "      <th>max</th>\n",
       "      <td>3.037000e+06</td>\n",
       "      <td>1.000000</td>\n",
       "      <td>1.189349e+06</td>\n",
       "      <td>4829.950000</td>\n",
       "      <td>18393.000000</td>\n",
       "      <td>600.000000</td>\n",
       "      <td>229.000000</td>\n",
       "      <td>237.000000</td>\n",
       "      <td>540.000000</td>\n",
       "      <td>102.000000</td>\n",
       "      <td>...</td>\n",
       "      <td>7.000000</td>\n",
       "      <td>6300.000000</td>\n",
       "      <td>32250.000000</td>\n",
       "      <td>6300.000000</td>\n",
       "      <td>1000.000000</td>\n",
       "      <td>2700.000000</td>\n",
       "      <td>1300.000000</td>\n",
       "      <td>1700.000000</td>\n",
       "      <td>3000.000000</td>\n",
       "      <td>1700.000000</td>\n",
       "    </tr>\n",
       "  </tbody>\n",
       "</table>\n",
       "<p>8 rows × 380 columns</p>\n",
       "</div>"
      ],
      "text/plain": [
       "       TransactionID       isFraud  TransactionDT  TransactionAmt  \\\n",
       "count   5.000100e+04  50001.000000   5.000100e+04    50001.000000   \n",
       "mean    3.012000e+06      0.027139   6.378101e+05      128.129726   \n",
       "std     1.443419e+04      0.162491   3.229461e+05      213.078011   \n",
       "min     2.987000e+06      0.000000   8.640000e+04        0.292000   \n",
       "25%     2.999500e+06      0.000000   3.523050e+05       42.000000   \n",
       "50%     3.012000e+06      0.000000   6.537500e+05       68.500000   \n",
       "75%     3.024500e+06      0.000000   9.321340e+05      120.000000   \n",
       "max     3.037000e+06      1.000000   1.189349e+06     4829.950000   \n",
       "\n",
       "              card1         card2         card3         card5         addr1  \\\n",
       "count  50001.000000  49304.000000  49998.000000  49766.000000  47410.000000   \n",
       "mean    9912.598368    366.635547    152.803612    200.704276    291.813162   \n",
       "std     4904.597980    159.057800     10.482210     40.299048    104.991697   \n",
       "min     1001.000000    100.000000    100.000000    100.000000    100.000000   \n",
       "25%     6019.000000    208.000000    150.000000    166.000000    204.000000   \n",
       "50%     9705.000000    369.000000    150.000000    226.000000    299.000000   \n",
       "75%    14265.000000    514.000000    150.000000    226.000000    330.000000   \n",
       "max    18393.000000    600.000000    229.000000    237.000000    540.000000   \n",
       "\n",
       "              addr2  ...          V330          V331          V332  \\\n",
       "count  47410.000000  ...  12268.000000  12268.000000  12268.000000   \n",
       "mean      85.590593  ...      0.110450     38.942391     63.051814   \n",
       "std        6.687334  ...      0.469788    190.465893    446.405097   \n",
       "min       13.000000  ...      0.000000      0.000000      0.000000   \n",
       "25%       87.000000  ...      0.000000      0.000000      0.000000   \n",
       "50%       87.000000  ...      0.000000      0.000000      0.000000   \n",
       "75%       87.000000  ...      0.000000      0.000000      0.000000   \n",
       "max      102.000000  ...      7.000000   6300.000000  32250.000000   \n",
       "\n",
       "               V333          V334          V335          V336          V337  \\\n",
       "count  12268.000000  12268.000000  12268.000000  12268.000000  12268.000000   \n",
       "mean      45.816241      4.252527     14.926426      7.991718     15.742603   \n",
       "std      210.319262     46.694625    105.561868     60.584452     91.083819   \n",
       "min        0.000000      0.000000      0.000000      0.000000      0.000000   \n",
       "25%        0.000000      0.000000      0.000000      0.000000      0.000000   \n",
       "50%        0.000000      0.000000      0.000000      0.000000      0.000000   \n",
       "75%        0.000000      0.000000      0.000000      0.000000      0.000000   \n",
       "max     6300.000000   1000.000000   2700.000000   1300.000000   1700.000000   \n",
       "\n",
       "               V338          V339  \n",
       "count  12268.000000  12268.000000  \n",
       "mean      21.362671     16.464481  \n",
       "std      131.071046     92.726771  \n",
       "min        0.000000      0.000000  \n",
       "25%        0.000000      0.000000  \n",
       "50%        0.000000      0.000000  \n",
       "75%        0.000000      0.000000  \n",
       "max     3000.000000   1700.000000  \n",
       "\n",
       "[8 rows x 380 columns]"
      ]
     },
     "execution_count": 3,
     "metadata": {},
     "output_type": "execute_result"
    }
   ],
   "source": [
    "train.describe()"
   ]
  },
  {
   "cell_type": "code",
   "execution_count": 4,
   "metadata": {},
   "outputs": [
    {
     "name": "stdout",
     "output_type": "stream",
     "text": [
      "<class 'pandas.core.frame.DataFrame'>\n",
      "RangeIndex: 50001 entries, 0 to 50000\n",
      "Columns: 394 entries, TransactionID to V339\n",
      "dtypes: float64(376), int64(4), object(14)\n",
      "memory usage: 150.3+ MB\n"
     ]
    }
   ],
   "source": [
    "train.info()"
   ]
  },
  {
   "cell_type": "code",
   "execution_count": 5,
   "metadata": {},
   "outputs": [
    {
     "data": {
      "text/html": [
       "<div>\n",
       "<style scoped>\n",
       "    .dataframe tbody tr th:only-of-type {\n",
       "        vertical-align: middle;\n",
       "    }\n",
       "\n",
       "    .dataframe tbody tr th {\n",
       "        vertical-align: top;\n",
       "    }\n",
       "\n",
       "    .dataframe thead th {\n",
       "        text-align: right;\n",
       "    }\n",
       "</style>\n",
       "<table border=\"1\" class=\"dataframe\">\n",
       "  <thead>\n",
       "    <tr style=\"text-align: right;\">\n",
       "      <th></th>\n",
       "      <th>TransactionID</th>\n",
       "      <th>isFraud</th>\n",
       "      <th>TransactionDT</th>\n",
       "      <th>TransactionAmt</th>\n",
       "      <th>ProductCD</th>\n",
       "      <th>card1</th>\n",
       "      <th>card2</th>\n",
       "      <th>card3</th>\n",
       "      <th>card4</th>\n",
       "      <th>card5</th>\n",
       "      <th>...</th>\n",
       "      <th>V330</th>\n",
       "      <th>V331</th>\n",
       "      <th>V332</th>\n",
       "      <th>V333</th>\n",
       "      <th>V334</th>\n",
       "      <th>V335</th>\n",
       "      <th>V336</th>\n",
       "      <th>V337</th>\n",
       "      <th>V338</th>\n",
       "      <th>V339</th>\n",
       "    </tr>\n",
       "  </thead>\n",
       "  <tbody>\n",
       "    <tr>\n",
       "      <th>0</th>\n",
       "      <td>2987000</td>\n",
       "      <td>0</td>\n",
       "      <td>86400</td>\n",
       "      <td>68.5</td>\n",
       "      <td>W</td>\n",
       "      <td>13926</td>\n",
       "      <td>NaN</td>\n",
       "      <td>150.0</td>\n",
       "      <td>discover</td>\n",
       "      <td>142.0</td>\n",
       "      <td>...</td>\n",
       "      <td>NaN</td>\n",
       "      <td>NaN</td>\n",
       "      <td>NaN</td>\n",
       "      <td>NaN</td>\n",
       "      <td>NaN</td>\n",
       "      <td>NaN</td>\n",
       "      <td>NaN</td>\n",
       "      <td>NaN</td>\n",
       "      <td>NaN</td>\n",
       "      <td>NaN</td>\n",
       "    </tr>\n",
       "    <tr>\n",
       "      <th>1</th>\n",
       "      <td>2987001</td>\n",
       "      <td>0</td>\n",
       "      <td>86401</td>\n",
       "      <td>29.0</td>\n",
       "      <td>W</td>\n",
       "      <td>2755</td>\n",
       "      <td>404.0</td>\n",
       "      <td>150.0</td>\n",
       "      <td>mastercard</td>\n",
       "      <td>102.0</td>\n",
       "      <td>...</td>\n",
       "      <td>NaN</td>\n",
       "      <td>NaN</td>\n",
       "      <td>NaN</td>\n",
       "      <td>NaN</td>\n",
       "      <td>NaN</td>\n",
       "      <td>NaN</td>\n",
       "      <td>NaN</td>\n",
       "      <td>NaN</td>\n",
       "      <td>NaN</td>\n",
       "      <td>NaN</td>\n",
       "    </tr>\n",
       "    <tr>\n",
       "      <th>2</th>\n",
       "      <td>2987002</td>\n",
       "      <td>0</td>\n",
       "      <td>86469</td>\n",
       "      <td>59.0</td>\n",
       "      <td>W</td>\n",
       "      <td>4663</td>\n",
       "      <td>490.0</td>\n",
       "      <td>150.0</td>\n",
       "      <td>visa</td>\n",
       "      <td>166.0</td>\n",
       "      <td>...</td>\n",
       "      <td>NaN</td>\n",
       "      <td>NaN</td>\n",
       "      <td>NaN</td>\n",
       "      <td>NaN</td>\n",
       "      <td>NaN</td>\n",
       "      <td>NaN</td>\n",
       "      <td>NaN</td>\n",
       "      <td>NaN</td>\n",
       "      <td>NaN</td>\n",
       "      <td>NaN</td>\n",
       "    </tr>\n",
       "    <tr>\n",
       "      <th>3</th>\n",
       "      <td>2987003</td>\n",
       "      <td>0</td>\n",
       "      <td>86499</td>\n",
       "      <td>50.0</td>\n",
       "      <td>W</td>\n",
       "      <td>18132</td>\n",
       "      <td>567.0</td>\n",
       "      <td>150.0</td>\n",
       "      <td>mastercard</td>\n",
       "      <td>117.0</td>\n",
       "      <td>...</td>\n",
       "      <td>NaN</td>\n",
       "      <td>NaN</td>\n",
       "      <td>NaN</td>\n",
       "      <td>NaN</td>\n",
       "      <td>NaN</td>\n",
       "      <td>NaN</td>\n",
       "      <td>NaN</td>\n",
       "      <td>NaN</td>\n",
       "      <td>NaN</td>\n",
       "      <td>NaN</td>\n",
       "    </tr>\n",
       "    <tr>\n",
       "      <th>4</th>\n",
       "      <td>2987004</td>\n",
       "      <td>0</td>\n",
       "      <td>86506</td>\n",
       "      <td>50.0</td>\n",
       "      <td>H</td>\n",
       "      <td>4497</td>\n",
       "      <td>514.0</td>\n",
       "      <td>150.0</td>\n",
       "      <td>mastercard</td>\n",
       "      <td>102.0</td>\n",
       "      <td>...</td>\n",
       "      <td>0.0</td>\n",
       "      <td>0.0</td>\n",
       "      <td>0.0</td>\n",
       "      <td>0.0</td>\n",
       "      <td>0.0</td>\n",
       "      <td>0.0</td>\n",
       "      <td>0.0</td>\n",
       "      <td>0.0</td>\n",
       "      <td>0.0</td>\n",
       "      <td>0.0</td>\n",
       "    </tr>\n",
       "  </tbody>\n",
       "</table>\n",
       "<p>5 rows × 394 columns</p>\n",
       "</div>"
      ],
      "text/plain": [
       "   TransactionID  isFraud  TransactionDT  TransactionAmt ProductCD  card1  \\\n",
       "0        2987000        0          86400            68.5         W  13926   \n",
       "1        2987001        0          86401            29.0         W   2755   \n",
       "2        2987002        0          86469            59.0         W   4663   \n",
       "3        2987003        0          86499            50.0         W  18132   \n",
       "4        2987004        0          86506            50.0         H   4497   \n",
       "\n",
       "   card2  card3       card4  card5  ... V330  V331  V332  V333  V334 V335  \\\n",
       "0    NaN  150.0    discover  142.0  ...  NaN   NaN   NaN   NaN   NaN  NaN   \n",
       "1  404.0  150.0  mastercard  102.0  ...  NaN   NaN   NaN   NaN   NaN  NaN   \n",
       "2  490.0  150.0        visa  166.0  ...  NaN   NaN   NaN   NaN   NaN  NaN   \n",
       "3  567.0  150.0  mastercard  117.0  ...  NaN   NaN   NaN   NaN   NaN  NaN   \n",
       "4  514.0  150.0  mastercard  102.0  ...  0.0   0.0   0.0   0.0   0.0  0.0   \n",
       "\n",
       "  V336  V337  V338  V339  \n",
       "0  NaN   NaN   NaN   NaN  \n",
       "1  NaN   NaN   NaN   NaN  \n",
       "2  NaN   NaN   NaN   NaN  \n",
       "3  NaN   NaN   NaN   NaN  \n",
       "4  0.0   0.0   0.0   0.0  \n",
       "\n",
       "[5 rows x 394 columns]"
      ]
     },
     "execution_count": 5,
     "metadata": {},
     "output_type": "execute_result"
    }
   ],
   "source": [
    "train.head()"
   ]
  },
  {
   "cell_type": "code",
   "execution_count": 6,
   "metadata": {},
   "outputs": [
    {
     "data": {
      "text/html": [
       "<div>\n",
       "<style scoped>\n",
       "    .dataframe tbody tr th:only-of-type {\n",
       "        vertical-align: middle;\n",
       "    }\n",
       "\n",
       "    .dataframe tbody tr th {\n",
       "        vertical-align: top;\n",
       "    }\n",
       "\n",
       "    .dataframe thead th {\n",
       "        text-align: right;\n",
       "    }\n",
       "</style>\n",
       "<table border=\"1\" class=\"dataframe\">\n",
       "  <thead>\n",
       "    <tr style=\"text-align: right;\">\n",
       "      <th></th>\n",
       "      <th>TransactionID</th>\n",
       "      <th>isFraud</th>\n",
       "      <th>TransactionDT</th>\n",
       "      <th>TransactionAmt</th>\n",
       "      <th>card1</th>\n",
       "      <th>card2</th>\n",
       "      <th>card3</th>\n",
       "      <th>card5</th>\n",
       "      <th>addr1</th>\n",
       "      <th>addr2</th>\n",
       "      <th>...</th>\n",
       "      <th>V330</th>\n",
       "      <th>V331</th>\n",
       "      <th>V332</th>\n",
       "      <th>V333</th>\n",
       "      <th>V334</th>\n",
       "      <th>V335</th>\n",
       "      <th>V336</th>\n",
       "      <th>V337</th>\n",
       "      <th>V338</th>\n",
       "      <th>V339</th>\n",
       "    </tr>\n",
       "  </thead>\n",
       "  <tbody>\n",
       "    <tr>\n",
       "      <th>count</th>\n",
       "      <td>7.500000e+04</td>\n",
       "      <td>75000.000000</td>\n",
       "      <td>7.500000e+04</td>\n",
       "      <td>75000.000000</td>\n",
       "      <td>75000.000000</td>\n",
       "      <td>74005.000000</td>\n",
       "      <td>75000.000000</td>\n",
       "      <td>74589.000000</td>\n",
       "      <td>64490.000000</td>\n",
       "      <td>64490.000000</td>\n",
       "      <td>...</td>\n",
       "      <td>24387.000000</td>\n",
       "      <td>24387.000000</td>\n",
       "      <td>24387.000000</td>\n",
       "      <td>24387.000000</td>\n",
       "      <td>24387.000000</td>\n",
       "      <td>24387.000000</td>\n",
       "      <td>24387.000000</td>\n",
       "      <td>24387.000000</td>\n",
       "      <td>24387.000000</td>\n",
       "      <td>24387.000000</td>\n",
       "    </tr>\n",
       "    <tr>\n",
       "      <th>mean</th>\n",
       "      <td>3.099500e+06</td>\n",
       "      <td>0.025973</td>\n",
       "      <td>2.279529e+06</td>\n",
       "      <td>128.028591</td>\n",
       "      <td>9831.878667</td>\n",
       "      <td>371.307695</td>\n",
       "      <td>154.075347</td>\n",
       "      <td>199.892169</td>\n",
       "      <td>291.440564</td>\n",
       "      <td>86.974725</td>\n",
       "      <td>...</td>\n",
       "      <td>0.159060</td>\n",
       "      <td>105.575307</td>\n",
       "      <td>131.765079</td>\n",
       "      <td>119.110755</td>\n",
       "      <td>11.564440</td>\n",
       "      <td>21.261696</td>\n",
       "      <td>16.245663</td>\n",
       "      <td>36.206626</td>\n",
       "      <td>42.026613</td>\n",
       "      <td>38.234797</td>\n",
       "    </tr>\n",
       "    <tr>\n",
       "      <th>std</th>\n",
       "      <td>2.165078e+04</td>\n",
       "      <td>0.159057</td>\n",
       "      <td>4.140176e+05</td>\n",
       "      <td>193.315818</td>\n",
       "      <td>4908.219772</td>\n",
       "      <td>159.001973</td>\n",
       "      <td>12.295349</td>\n",
       "      <td>40.927724</td>\n",
       "      <td>100.732324</td>\n",
       "      <td>1.704298</td>\n",
       "      <td>...</td>\n",
       "      <td>0.764107</td>\n",
       "      <td>730.361658</td>\n",
       "      <td>854.615865</td>\n",
       "      <td>768.778641</td>\n",
       "      <td>102.634158</td>\n",
       "      <td>134.484367</td>\n",
       "      <td>119.260027</td>\n",
       "      <td>339.409687</td>\n",
       "      <td>378.479522</td>\n",
       "      <td>345.706813</td>\n",
       "    </tr>\n",
       "    <tr>\n",
       "      <th>min</th>\n",
       "      <td>3.062000e+06</td>\n",
       "      <td>0.000000</td>\n",
       "      <td>1.643492e+06</td>\n",
       "      <td>1.000000</td>\n",
       "      <td>1006.000000</td>\n",
       "      <td>100.000000</td>\n",
       "      <td>100.000000</td>\n",
       "      <td>100.000000</td>\n",
       "      <td>110.000000</td>\n",
       "      <td>10.000000</td>\n",
       "      <td>...</td>\n",
       "      <td>0.000000</td>\n",
       "      <td>0.000000</td>\n",
       "      <td>0.000000</td>\n",
       "      <td>0.000000</td>\n",
       "      <td>0.000000</td>\n",
       "      <td>0.000000</td>\n",
       "      <td>0.000000</td>\n",
       "      <td>0.000000</td>\n",
       "      <td>0.000000</td>\n",
       "      <td>0.000000</td>\n",
       "    </tr>\n",
       "    <tr>\n",
       "      <th>25%</th>\n",
       "      <td>3.080750e+06</td>\n",
       "      <td>0.000000</td>\n",
       "      <td>1.950398e+06</td>\n",
       "      <td>45.000000</td>\n",
       "      <td>6019.000000</td>\n",
       "      <td>220.000000</td>\n",
       "      <td>150.000000</td>\n",
       "      <td>166.000000</td>\n",
       "      <td>204.000000</td>\n",
       "      <td>87.000000</td>\n",
       "      <td>...</td>\n",
       "      <td>0.000000</td>\n",
       "      <td>0.000000</td>\n",
       "      <td>0.000000</td>\n",
       "      <td>0.000000</td>\n",
       "      <td>0.000000</td>\n",
       "      <td>0.000000</td>\n",
       "      <td>0.000000</td>\n",
       "      <td>0.000000</td>\n",
       "      <td>0.000000</td>\n",
       "      <td>0.000000</td>\n",
       "    </tr>\n",
       "    <tr>\n",
       "      <th>50%</th>\n",
       "      <td>3.099500e+06</td>\n",
       "      <td>0.000000</td>\n",
       "      <td>2.187586e+06</td>\n",
       "      <td>75.000000</td>\n",
       "      <td>9633.000000</td>\n",
       "      <td>390.000000</td>\n",
       "      <td>150.000000</td>\n",
       "      <td>226.000000</td>\n",
       "      <td>299.000000</td>\n",
       "      <td>87.000000</td>\n",
       "      <td>...</td>\n",
       "      <td>0.000000</td>\n",
       "      <td>0.000000</td>\n",
       "      <td>0.000000</td>\n",
       "      <td>0.000000</td>\n",
       "      <td>0.000000</td>\n",
       "      <td>0.000000</td>\n",
       "      <td>0.000000</td>\n",
       "      <td>0.000000</td>\n",
       "      <td>0.000000</td>\n",
       "      <td>0.000000</td>\n",
       "    </tr>\n",
       "    <tr>\n",
       "      <th>75%</th>\n",
       "      <td>3.118249e+06</td>\n",
       "      <td>0.000000</td>\n",
       "      <td>2.595982e+06</td>\n",
       "      <td>131.000000</td>\n",
       "      <td>14223.000000</td>\n",
       "      <td>514.000000</td>\n",
       "      <td>150.000000</td>\n",
       "      <td>226.000000</td>\n",
       "      <td>330.000000</td>\n",
       "      <td>87.000000</td>\n",
       "      <td>...</td>\n",
       "      <td>0.000000</td>\n",
       "      <td>0.000000</td>\n",
       "      <td>0.000000</td>\n",
       "      <td>0.000000</td>\n",
       "      <td>0.000000</td>\n",
       "      <td>0.000000</td>\n",
       "      <td>0.000000</td>\n",
       "      <td>0.000000</td>\n",
       "      <td>0.000000</td>\n",
       "      <td>0.000000</td>\n",
       "    </tr>\n",
       "    <tr>\n",
       "      <th>max</th>\n",
       "      <td>3.136999e+06</td>\n",
       "      <td>1.000000</td>\n",
       "      <td>3.093408e+06</td>\n",
       "      <td>5094.950000</td>\n",
       "      <td>18396.000000</td>\n",
       "      <td>600.000000</td>\n",
       "      <td>231.000000</td>\n",
       "      <td>237.000000</td>\n",
       "      <td>536.000000</td>\n",
       "      <td>102.000000</td>\n",
       "      <td>...</td>\n",
       "      <td>15.000000</td>\n",
       "      <td>20750.000000</td>\n",
       "      <td>22500.000000</td>\n",
       "      <td>21250.000000</td>\n",
       "      <td>3100.000000</td>\n",
       "      <td>3350.000000</td>\n",
       "      <td>3250.000000</td>\n",
       "      <td>8250.000000</td>\n",
       "      <td>8250.000000</td>\n",
       "      <td>8250.000000</td>\n",
       "    </tr>\n",
       "  </tbody>\n",
       "</table>\n",
       "<p>8 rows × 380 columns</p>\n",
       "</div>"
      ],
      "text/plain": [
       "       TransactionID       isFraud  TransactionDT  TransactionAmt  \\\n",
       "count   7.500000e+04  75000.000000   7.500000e+04    75000.000000   \n",
       "mean    3.099500e+06      0.025973   2.279529e+06      128.028591   \n",
       "std     2.165078e+04      0.159057   4.140176e+05      193.315818   \n",
       "min     3.062000e+06      0.000000   1.643492e+06        1.000000   \n",
       "25%     3.080750e+06      0.000000   1.950398e+06       45.000000   \n",
       "50%     3.099500e+06      0.000000   2.187586e+06       75.000000   \n",
       "75%     3.118249e+06      0.000000   2.595982e+06      131.000000   \n",
       "max     3.136999e+06      1.000000   3.093408e+06     5094.950000   \n",
       "\n",
       "              card1         card2         card3         card5         addr1  \\\n",
       "count  75000.000000  74005.000000  75000.000000  74589.000000  64490.000000   \n",
       "mean    9831.878667    371.307695    154.075347    199.892169    291.440564   \n",
       "std     4908.219772    159.001973     12.295349     40.927724    100.732324   \n",
       "min     1006.000000    100.000000    100.000000    100.000000    110.000000   \n",
       "25%     6019.000000    220.000000    150.000000    166.000000    204.000000   \n",
       "50%     9633.000000    390.000000    150.000000    226.000000    299.000000   \n",
       "75%    14223.000000    514.000000    150.000000    226.000000    330.000000   \n",
       "max    18396.000000    600.000000    231.000000    237.000000    536.000000   \n",
       "\n",
       "              addr2  ...          V330          V331          V332  \\\n",
       "count  64490.000000  ...  24387.000000  24387.000000  24387.000000   \n",
       "mean      86.974725  ...      0.159060    105.575307    131.765079   \n",
       "std        1.704298  ...      0.764107    730.361658    854.615865   \n",
       "min       10.000000  ...      0.000000      0.000000      0.000000   \n",
       "25%       87.000000  ...      0.000000      0.000000      0.000000   \n",
       "50%       87.000000  ...      0.000000      0.000000      0.000000   \n",
       "75%       87.000000  ...      0.000000      0.000000      0.000000   \n",
       "max      102.000000  ...     15.000000  20750.000000  22500.000000   \n",
       "\n",
       "               V333          V334          V335          V336          V337  \\\n",
       "count  24387.000000  24387.000000  24387.000000  24387.000000  24387.000000   \n",
       "mean     119.110755     11.564440     21.261696     16.245663     36.206626   \n",
       "std      768.778641    102.634158    134.484367    119.260027    339.409687   \n",
       "min        0.000000      0.000000      0.000000      0.000000      0.000000   \n",
       "25%        0.000000      0.000000      0.000000      0.000000      0.000000   \n",
       "50%        0.000000      0.000000      0.000000      0.000000      0.000000   \n",
       "75%        0.000000      0.000000      0.000000      0.000000      0.000000   \n",
       "max    21250.000000   3100.000000   3350.000000   3250.000000   8250.000000   \n",
       "\n",
       "               V338          V339  \n",
       "count  24387.000000  24387.000000  \n",
       "mean      42.026613     38.234797  \n",
       "std      378.479522    345.706813  \n",
       "min        0.000000      0.000000  \n",
       "25%        0.000000      0.000000  \n",
       "50%        0.000000      0.000000  \n",
       "75%        0.000000      0.000000  \n",
       "max     8250.000000   8250.000000  \n",
       "\n",
       "[8 rows x 380 columns]"
      ]
     },
     "execution_count": 6,
     "metadata": {},
     "output_type": "execute_result"
    }
   ],
   "source": [
    "test.describe()"
   ]
  },
  {
   "cell_type": "code",
   "execution_count": 7,
   "metadata": {},
   "outputs": [
    {
     "data": {
      "text/plain": [
       "0    48644\n",
       "1     1357\n",
       "Name: isFraud, dtype: int64"
      ]
     },
     "execution_count": 7,
     "metadata": {},
     "output_type": "execute_result"
    }
   ],
   "source": [
    "train[\"isFraud\"].value_counts()"
   ]
  },
  {
   "cell_type": "code",
   "execution_count": 8,
   "metadata": {},
   "outputs": [
    {
     "data": {
      "text/plain": [
       "0    73052\n",
       "1     1948\n",
       "Name: isFraud, dtype: int64"
      ]
     },
     "execution_count": 8,
     "metadata": {},
     "output_type": "execute_result"
    }
   ],
   "source": [
    "test[\"isFraud\"].value_counts()"
   ]
  },
  {
   "cell_type": "markdown",
   "metadata": {},
   "source": [
    "### Задание 1: Построить график распределения времени совершения транзакции для обучающей / тестовой выборки, сделать выводы о том, как разбиты данные и какие виды валидации могут подойти для данной задачи."
   ]
  },
  {
   "cell_type": "code",
   "execution_count": 9,
   "metadata": {},
   "outputs": [
    {
     "data": {
      "image/png": "[encoded data removed]",
      "text/plain": [
       "<Figure size 432x288 with 1 Axes>"
      ]
     },
     "metadata": {
      "needs_background": "light"
     },
     "output_type": "display_data"
    }
   ],
   "source": [
    "plt.plot(train[\"TransactionID\"], train[\"TransactionDT\"])\n",
    "plt.plot(test[\"TransactionID\"], test[\"TransactionDT\"])\n",
    "plt.xlabel(\"TransactionID\")\n",
    "plt.ylabel(\"Время транзакции\")\n",
    "plt.show()"
   ]
  },
  {
   "cell_type": "markdown",
   "metadata": {},
   "source": [
    "Вывод: т.к.данные зависят от времени лучше вего подойдет TimeSeriesSplit валидация."
   ]
  },
  {
   "cell_type": "markdown",
   "metadata": {},
   "source": [
    "### Задание 2: построить scatter-plot зависимости суммы транзакции от времени совершения транзакции. Построить графики для обучающей выборки и для тестовой выборки, для обучающей выборки - построить как для целевой переменной = 0, так и для переменной = 1. Сделать выводы."
   ]
  },
  {
   "cell_type": "code",
   "execution_count": 10,
   "metadata": {},
   "outputs": [
    {
     "data": {
      "image/png": "[encoded data removed]",
      "text/plain": [
       "<Figure size 432x288 with 1 Axes>"
      ]
     },
     "metadata": {
      "needs_background": "light"
     },
     "output_type": "display_data"
    }
   ],
   "source": [
    "plt.scatter(test[\"TransactionAmt\"], test[\"TransactionDT\"],label=\"test\")\n",
    "plt.scatter(train[train[\"isFraud\"]==0][\"TransactionAmt\"], train[train[\"isFraud\"]==0][\"TransactionDT\"], label=\"train_isFraud_0\")\n",
    "plt.scatter(train[train[\"isFraud\"]==1][\"TransactionAmt\"], train[train[\"isFraud\"]==1][\"TransactionDT\"], label=\"train_isFraud_1\")\n",
    "plt.xlabel(\"Сумма транзакции\")\n",
    "plt.ylabel(\"Время транзакции\")\n",
    "plt.legend(loc=\"lower right\")\n",
    "plt.show()"
   ]
  },
  {
   "cell_type": "markdown",
   "metadata": {},
   "source": [
    "Вывод: мошеннические транзакции в основном на сумму менее 1000, все, что больше 1000 похоже на выбросы."
   ]
  },
  {
   "cell_type": "markdown",
   "metadata": {},
   "source": [
    "### Задание 3: построить распределение признака TransactionAmt в логарифмическом масштабе, сделать выводы о близости распредления к нормальному распределению. Построить распределение признака в логарифмическому масштабе для обучающей выборк и для тестовой выборки, сделать выводы."
   ]
  },
  {
   "cell_type": "code",
   "execution_count": 11,
   "metadata": {},
   "outputs": [
    {
     "data": {
      "text/plain": [
       "<AxesSubplot:title={'center':'Log Normal'}, xlabel='TransactionAmt'>"
      ]
     },
     "execution_count": 11,
     "metadata": {},
     "output_type": "execute_result"
    },
    {
     "data": {
      "image/png": "[encoded data removed]",
      "text/plain": [
       "<Figure size 1296x720 with 1 Axes>"
      ]
     },
     "metadata": {
      "needs_background": "light"
     },
     "output_type": "display_data"
    }
   ],
   "source": [
    "fig, axes = plt.subplots(figsize=(18, 10))\n",
    "axes.set_title(\"Log Normal\", fontsize=14)\n",
    "sns.distplot(train[\"TransactionAmt\"], kde=False, color=\"blue\", fit=st.lognorm, ax=axes)\n",
    "sns.distplot(test[\"TransactionAmt\"], kde=False, color=\"green\", fit=st.lognorm, ax=axes)"
   ]
  },
  {
   "cell_type": "markdown",
   "metadata": {},
   "source": [
    "Выводы: распределение признака TransactionAmt на трейне и на тесте не похоже на нормальное, но похоже между собой."
   ]
  },
  {
   "cell_type": "markdown",
   "metadata": {},
   "source": [
    "### Задание 4: построить распределение признака целевой переменной в зависимости от значений категориальных признаков ProductCD, card4, card6. Сделать выводы."
   ]
  },
  {
   "cell_type": "code",
   "execution_count": 12,
   "metadata": {},
   "outputs": [
    {
     "name": "stdout",
     "output_type": "stream",
     "text": [
      "Categorical Feature Count 14\n"
     ]
    },
    {
     "data": {
      "text/html": [
       "<div>\n",
       "<style scoped>\n",
       "    .dataframe tbody tr th:only-of-type {\n",
       "        vertical-align: middle;\n",
       "    }\n",
       "\n",
       "    .dataframe tbody tr th {\n",
       "        vertical-align: top;\n",
       "    }\n",
       "\n",
       "    .dataframe thead th {\n",
       "        text-align: right;\n",
       "    }\n",
       "</style>\n",
       "<table border=\"1\" class=\"dataframe\">\n",
       "  <thead>\n",
       "    <tr style=\"text-align: right;\">\n",
       "      <th></th>\n",
       "      <th>ProductCD</th>\n",
       "      <th>card4</th>\n",
       "      <th>card6</th>\n",
       "      <th>P_emaildomain</th>\n",
       "      <th>R_emaildomain</th>\n",
       "      <th>M1</th>\n",
       "      <th>M2</th>\n",
       "      <th>M3</th>\n",
       "      <th>M4</th>\n",
       "      <th>M5</th>\n",
       "      <th>M6</th>\n",
       "      <th>M7</th>\n",
       "      <th>M8</th>\n",
       "      <th>M9</th>\n",
       "    </tr>\n",
       "  </thead>\n",
       "  <tbody>\n",
       "    <tr>\n",
       "      <th>0</th>\n",
       "      <td>W</td>\n",
       "      <td>discover</td>\n",
       "      <td>credit</td>\n",
       "      <td>NaN</td>\n",
       "      <td>NaN</td>\n",
       "      <td>T</td>\n",
       "      <td>T</td>\n",
       "      <td>T</td>\n",
       "      <td>M2</td>\n",
       "      <td>F</td>\n",
       "      <td>T</td>\n",
       "      <td>NaN</td>\n",
       "      <td>NaN</td>\n",
       "      <td>NaN</td>\n",
       "    </tr>\n",
       "    <tr>\n",
       "      <th>1</th>\n",
       "      <td>W</td>\n",
       "      <td>mastercard</td>\n",
       "      <td>credit</td>\n",
       "      <td>gmail.com</td>\n",
       "      <td>NaN</td>\n",
       "      <td>NaN</td>\n",
       "      <td>NaN</td>\n",
       "      <td>NaN</td>\n",
       "      <td>M0</td>\n",
       "      <td>T</td>\n",
       "      <td>T</td>\n",
       "      <td>NaN</td>\n",
       "      <td>NaN</td>\n",
       "      <td>NaN</td>\n",
       "    </tr>\n",
       "  </tbody>\n",
       "</table>\n",
       "</div>"
      ],
      "text/plain": [
       "  ProductCD       card4   card6 P_emaildomain R_emaildomain   M1   M2   M3  \\\n",
       "0         W    discover  credit           NaN           NaN    T    T    T   \n",
       "1         W  mastercard  credit     gmail.com           NaN  NaN  NaN  NaN   \n",
       "\n",
       "   M4 M5 M6   M7   M8   M9  \n",
       "0  M2  F  T  NaN  NaN  NaN  \n",
       "1  M0  T  T  NaN  NaN  NaN  "
      ]
     },
     "execution_count": 12,
     "metadata": {},
     "output_type": "execute_result"
    }
   ],
   "source": [
    "categorical_features = train.select_dtypes(include=[np.object])\n",
    "print(f\"Categorical Feature Count {categorical_features.shape[1]}\")\n",
    "categorical_features.head(n=2)"
   ]
  },
  {
   "cell_type": "code",
   "execution_count": 13,
   "metadata": {},
   "outputs": [
    {
     "data": {
      "image/png": "[encoded data removed]",
      "text/plain": [
       "<Figure size 432x288 with 1 Axes>"
      ]
     },
     "metadata": {
      "needs_background": "light"
     },
     "output_type": "display_data"
    }
   ],
   "source": [
    "ProductCD_0 = (train[train[\"isFraud\"]==0][\"ProductCD\"].value_counts()/train[\"ProductCD\"].value_counts()).sort_values()\n",
    "ProductCD_0 = ProductCD_0.sort_values()\n",
    "ProductCD_0.plot(kind=\"barh\", title=\"Распределение обычных операций по ProductCD\")\n",
    "plt.show()"
   ]
  },
  {
   "cell_type": "code",
   "execution_count": 14,
   "metadata": {},
   "outputs": [
    {
     "data": {
      "image/png": "[encoded data removed]",
      "text/plain": [
       "<Figure size 432x288 with 1 Axes>"
      ]
     },
     "metadata": {
      "needs_background": "light"
     },
     "output_type": "display_data"
    }
   ],
   "source": [
    "ProductCD_0 = (train[train[\"isFraud\"]==0][\"ProductCD\"].value_counts()/train[\"ProductCD\"].value_counts()).sort_values()\n",
    "ProductCD_1 = train[train[\"isFraud\"]==1][\"ProductCD\"].value_counts()/train[\"ProductCD\"].value_counts()\n",
    "ProductCD_1 = ProductCD_1.sort_values()\n",
    "ProductCD_1.plot(kind=\"barh\", title=\"Распределение мошеннический операций по ProductCD\")\n",
    "plt.show()"
   ]
  },
  {
   "cell_type": "code",
   "execution_count": 15,
   "metadata": {},
   "outputs": [
    {
     "data": {
      "image/png": "[encoded data removed]",
      "text/plain": [
       "<Figure size 432x288 with 1 Axes>"
      ]
     },
     "metadata": {
      "needs_background": "light"
     },
     "output_type": "display_data"
    }
   ],
   "source": [
    "card4_0 = train[train[\"isFraud\"]==0][\"card4\"].value_counts()/train[\"card4\"].value_counts()\n",
    "card4_0 = card4_0.sort_values()\n",
    "card4_0.plot(kind=\"barh\", title=\"Распределение обычных операций по card4\")\n",
    "plt.show()"
   ]
  },
  {
   "cell_type": "code",
   "execution_count": 16,
   "metadata": {},
   "outputs": [
    {
     "data": {
      "image/png": "[encoded data removed]",
      "text/plain": [
       "<Figure size 432x288 with 1 Axes>"
      ]
     },
     "metadata": {
      "needs_background": "light"
     },
     "output_type": "display_data"
    }
   ],
   "source": [
    "card4_1 = train[train[\"isFraud\"]==1][\"card4\"].value_counts()/train[\"card4\"].value_counts()\n",
    "card4_1 = card4_1.sort_values()\n",
    "card4_1.plot(kind=\"barh\", title=\"Распределение мошеннических операций по card4\")\n",
    "plt.show()"
   ]
  },
  {
   "cell_type": "code",
   "execution_count": 17,
   "metadata": {},
   "outputs": [
    {
     "data": {
      "image/png": "[encoded data removed]",
      "text/plain": [
       "<Figure size 432x288 with 1 Axes>"
      ]
     },
     "metadata": {
      "needs_background": "light"
     },
     "output_type": "display_data"
    }
   ],
   "source": [
    "card6_0 = train[train[\"isFraud\"]==0][\"card6\"].value_counts()/train[\"card6\"].value_counts()\n",
    "card6_0 = card6_0.sort_values()\n",
    "card6_0.plot(kind=\"barh\", title=\"Распределение обычных операций по card6\")\n",
    "plt.show()"
   ]
  },
  {
   "cell_type": "code",
   "execution_count": 18,
   "metadata": {},
   "outputs": [
    {
     "data": {
      "image/png": "[encoded data removed]",
      "text/plain": [
       "<Figure size 432x288 with 1 Axes>"
      ]
     },
     "metadata": {
      "needs_background": "light"
     },
     "output_type": "display_data"
    }
   ],
   "source": [
    "card6_1 = train[train[\"isFraud\"]==1][\"card6\"].value_counts()/train[\"card6\"].value_counts()\n",
    "card6_1 = card6_1.sort_values()\n",
    "card6_1.plot(kind=\"barh\", title=\"Распределение мошеннических операций по card6\")\n",
    "plt.show()"
   ]
  },
  {
   "cell_type": "markdown",
   "metadata": {},
   "source": [
    "Выводы: большая доля мошеннических операций приходится на категорию C по картам типа discover, а первом месте кредитовые, а на втором месте дебетовые."
   ]
  },
  {
   "cell_type": "markdown",
   "metadata": {},
   "source": [
    "## Основное задание:\n",
    "Даны выборки для обучения и для тестирования. Задание заключается в том, чтобы попробовать разные способы валидации, проанализировать плюсы / минусы каждой и сделать выводы о том, какой способ валидации наиболее устойчивый в данной задаче. Метрика качества для оценки прогнозов - ROC-AUC, название целевой переменной - IsFraud. Рекомендуется использовать модели градиетного бустинга, реализация любая."
   ]
  },
  {
   "cell_type": "markdown",
   "metadata": {},
   "source": [
    "### Задание 1: сделать Hold-Out валидацию с разбиением, размер которого будет адеквтаным, по вашему мнению; разбиение проводить по id-транзакции (TransactionID), обучать модель градиетного бустинга любой реализации с подбором числа деревьев по early_stopping критерию до достижения сходимости. Оценить качество модели на тестовой выборке, оценить расхождение по сравнению с качеством на обучающей выборке и тестовой выборке."
   ]
  },
  {
   "cell_type": "code",
   "execution_count": 19,
   "metadata": {},
   "outputs": [],
   "source": [
    "x_train, x_test = train_test_split(\n",
    "    train.drop([\"isFraud\"], axis=1), train_size=0.75, shuffle=True, random_state=1,\n",
    ")\n",
    "y_train, y_test = train_test_split(\n",
    "    train[\"isFraud\"], train_size=0.75, shuffle=True, random_state=1,\n",
    ")"
   ]
  },
  {
   "cell_type": "code",
   "execution_count": 20,
   "metadata": {},
   "outputs": [
    {
     "name": "stdout",
     "output_type": "stream",
     "text": [
      "x_train.shape = 37500 rows, 379 cols\n",
      "x_test.shape = 12501 rows, 379 cols\n"
     ]
    }
   ],
   "source": [
    "numerical_features = x_train.select_dtypes(exclude=[\"object\"])\n",
    "numerical_features = numerical_features.columns.tolist()\n",
    "\n",
    "x_train = x_train[numerical_features]\n",
    "x_test = x_test[numerical_features]\n",
    "\n",
    "print(\"x_train.shape = {} rows, {} cols\".format(*x_train.shape))\n",
    "print(\"x_test.shape = {} rows, {} cols\".format(*x_test.shape))"
   ]
  },
  {
   "cell_type": "code",
   "execution_count": 21,
   "metadata": {},
   "outputs": [
    {
     "name": "stdout",
     "output_type": "stream",
     "text": [
      "[0]\tvalidation_0-auc:0.76281\tvalidation_1-auc:0.75206\n",
      "Multiple eval metrics have been passed: 'validation_1-auc' will be used for early stopping.\n",
      "\n",
      "Will train until validation_1-auc hasn't improved in 50 rounds.\n",
      "[1]\tvalidation_0-auc:0.81701\tvalidation_1-auc:0.79861\n",
      "[2]\tvalidation_0-auc:0.82739\tvalidation_1-auc:0.81206\n",
      "[3]\tvalidation_0-auc:0.83972\tvalidation_1-auc:0.82192\n",
      "[4]\tvalidation_0-auc:0.84605\tvalidation_1-auc:0.83012\n",
      "[5]\tvalidation_0-auc:0.85159\tvalidation_1-auc:0.83576\n",
      "[6]\tvalidation_0-auc:0.87360\tvalidation_1-auc:0.85674\n",
      "[7]\tvalidation_0-auc:0.88143\tvalidation_1-auc:0.86315\n",
      "[8]\tvalidation_0-auc:0.89755\tvalidation_1-auc:0.87355\n",
      "[9]\tvalidation_0-auc:0.90210\tvalidation_1-auc:0.87541\n",
      "[10]\tvalidation_0-auc:0.91192\tvalidation_1-auc:0.88724\n",
      "[11]\tvalidation_0-auc:0.91480\tvalidation_1-auc:0.88739\n",
      "[12]\tvalidation_0-auc:0.92478\tvalidation_1-auc:0.89276\n",
      "[13]\tvalidation_0-auc:0.92959\tvalidation_1-auc:0.89326\n",
      "[14]\tvalidation_0-auc:0.93845\tvalidation_1-auc:0.89972\n",
      "[15]\tvalidation_0-auc:0.94436\tvalidation_1-auc:0.90279\n",
      "[16]\tvalidation_0-auc:0.94611\tvalidation_1-auc:0.90322\n",
      "[17]\tvalidation_0-auc:0.95082\tvalidation_1-auc:0.90464\n",
      "[18]\tvalidation_0-auc:0.95457\tvalidation_1-auc:0.90364\n",
      "[19]\tvalidation_0-auc:0.95964\tvalidation_1-auc:0.90521\n",
      "[20]\tvalidation_0-auc:0.96313\tvalidation_1-auc:0.90821\n",
      "[21]\tvalidation_0-auc:0.96383\tvalidation_1-auc:0.91064\n",
      "[22]\tvalidation_0-auc:0.96588\tvalidation_1-auc:0.91032\n",
      "[23]\tvalidation_0-auc:0.96664\tvalidation_1-auc:0.91184\n",
      "[24]\tvalidation_0-auc:0.96730\tvalidation_1-auc:0.91071\n",
      "[25]\tvalidation_0-auc:0.96891\tvalidation_1-auc:0.91207\n",
      "[26]\tvalidation_0-auc:0.97063\tvalidation_1-auc:0.91328\n",
      "[27]\tvalidation_0-auc:0.97315\tvalidation_1-auc:0.91627\n",
      "[28]\tvalidation_0-auc:0.97392\tvalidation_1-auc:0.91692\n",
      "[29]\tvalidation_0-auc:0.97454\tvalidation_1-auc:0.91683\n",
      "[30]\tvalidation_0-auc:0.97565\tvalidation_1-auc:0.91779\n",
      "[31]\tvalidation_0-auc:0.97627\tvalidation_1-auc:0.91689\n",
      "[32]\tvalidation_0-auc:0.97687\tvalidation_1-auc:0.91763\n",
      "[33]\tvalidation_0-auc:0.97748\tvalidation_1-auc:0.91847\n",
      "[34]\tvalidation_0-auc:0.97848\tvalidation_1-auc:0.91781\n",
      "[35]\tvalidation_0-auc:0.97867\tvalidation_1-auc:0.91761\n",
      "[36]\tvalidation_0-auc:0.97969\tvalidation_1-auc:0.91732\n",
      "[37]\tvalidation_0-auc:0.98011\tvalidation_1-auc:0.91619\n",
      "[38]\tvalidation_0-auc:0.98069\tvalidation_1-auc:0.91648\n",
      "[39]\tvalidation_0-auc:0.98164\tvalidation_1-auc:0.91686\n",
      "[40]\tvalidation_0-auc:0.98244\tvalidation_1-auc:0.91677\n",
      "[41]\tvalidation_0-auc:0.98393\tvalidation_1-auc:0.91482\n",
      "[42]\tvalidation_0-auc:0.98424\tvalidation_1-auc:0.91547\n",
      "[43]\tvalidation_0-auc:0.98446\tvalidation_1-auc:0.91610\n",
      "[44]\tvalidation_0-auc:0.98506\tvalidation_1-auc:0.91687\n",
      "[45]\tvalidation_0-auc:0.98521\tvalidation_1-auc:0.91736\n",
      "[46]\tvalidation_0-auc:0.98579\tvalidation_1-auc:0.91796\n",
      "[47]\tvalidation_0-auc:0.98605\tvalidation_1-auc:0.91791\n",
      "[48]\tvalidation_0-auc:0.98621\tvalidation_1-auc:0.91793\n",
      "[49]\tvalidation_0-auc:0.98647\tvalidation_1-auc:0.91848\n",
      "[50]\tvalidation_0-auc:0.98676\tvalidation_1-auc:0.91818\n",
      "[51]\tvalidation_0-auc:0.98777\tvalidation_1-auc:0.91926\n",
      "[52]\tvalidation_0-auc:0.98815\tvalidation_1-auc:0.91971\n",
      "[53]\tvalidation_0-auc:0.98852\tvalidation_1-auc:0.92116\n",
      "[54]\tvalidation_0-auc:0.98861\tvalidation_1-auc:0.92098\n",
      "[55]\tvalidation_0-auc:0.98920\tvalidation_1-auc:0.92094\n",
      "[56]\tvalidation_0-auc:0.98952\tvalidation_1-auc:0.92220\n",
      "[57]\tvalidation_0-auc:0.98994\tvalidation_1-auc:0.92138\n",
      "[58]\tvalidation_0-auc:0.99017\tvalidation_1-auc:0.92139\n",
      "[59]\tvalidation_0-auc:0.99056\tvalidation_1-auc:0.92175\n",
      "[60]\tvalidation_0-auc:0.99076\tvalidation_1-auc:0.92232\n",
      "[61]\tvalidation_0-auc:0.99093\tvalidation_1-auc:0.92222\n",
      "[62]\tvalidation_0-auc:0.99115\tvalidation_1-auc:0.92144\n",
      "[63]\tvalidation_0-auc:0.99139\tvalidation_1-auc:0.92176\n",
      "[64]\tvalidation_0-auc:0.99159\tvalidation_1-auc:0.92167\n",
      "[65]\tvalidation_0-auc:0.99162\tvalidation_1-auc:0.92173\n",
      "[66]\tvalidation_0-auc:0.99169\tvalidation_1-auc:0.92197\n",
      "[67]\tvalidation_0-auc:0.99201\tvalidation_1-auc:0.92209\n",
      "[68]\tvalidation_0-auc:0.99210\tvalidation_1-auc:0.92175\n",
      "[69]\tvalidation_0-auc:0.99223\tvalidation_1-auc:0.92186\n",
      "[70]\tvalidation_0-auc:0.99238\tvalidation_1-auc:0.92168\n",
      "[71]\tvalidation_0-auc:0.99253\tvalidation_1-auc:0.92179\n",
      "[72]\tvalidation_0-auc:0.99282\tvalidation_1-auc:0.92246\n",
      "[73]\tvalidation_0-auc:0.99309\tvalidation_1-auc:0.92244\n",
      "[74]\tvalidation_0-auc:0.99312\tvalidation_1-auc:0.92312\n",
      "[75]\tvalidation_0-auc:0.99323\tvalidation_1-auc:0.92266\n",
      "[76]\tvalidation_0-auc:0.99367\tvalidation_1-auc:0.92244\n",
      "[77]\tvalidation_0-auc:0.99403\tvalidation_1-auc:0.92219\n",
      "[78]\tvalidation_0-auc:0.99405\tvalidation_1-auc:0.92244\n",
      "[79]\tvalidation_0-auc:0.99409\tvalidation_1-auc:0.92202\n",
      "[80]\tvalidation_0-auc:0.99456\tvalidation_1-auc:0.92226\n",
      "[81]\tvalidation_0-auc:0.99486\tvalidation_1-auc:0.92335\n",
      "[82]\tvalidation_0-auc:0.99509\tvalidation_1-auc:0.92266\n",
      "[83]\tvalidation_0-auc:0.99546\tvalidation_1-auc:0.92298\n",
      "[84]\tvalidation_0-auc:0.99552\tvalidation_1-auc:0.92322\n",
      "[85]\tvalidation_0-auc:0.99568\tvalidation_1-auc:0.92368\n",
      "[86]\tvalidation_0-auc:0.99581\tvalidation_1-auc:0.92319\n",
      "[87]\tvalidation_0-auc:0.99598\tvalidation_1-auc:0.92356\n",
      "[88]\tvalidation_0-auc:0.99605\tvalidation_1-auc:0.92362\n",
      "[89]\tvalidation_0-auc:0.99605\tvalidation_1-auc:0.92399\n",
      "[90]\tvalidation_0-auc:0.99607\tvalidation_1-auc:0.92390\n",
      "[91]\tvalidation_0-auc:0.99618\tvalidation_1-auc:0.92404\n",
      "[92]\tvalidation_0-auc:0.99619\tvalidation_1-auc:0.92416\n",
      "[93]\tvalidation_0-auc:0.99624\tvalidation_1-auc:0.92451\n",
      "[94]\tvalidation_0-auc:0.99626\tvalidation_1-auc:0.92386\n",
      "[95]\tvalidation_0-auc:0.99629\tvalidation_1-auc:0.92398\n",
      "[96]\tvalidation_0-auc:0.99657\tvalidation_1-auc:0.92446\n",
      "[97]\tvalidation_0-auc:0.99665\tvalidation_1-auc:0.92481\n",
      "[98]\tvalidation_0-auc:0.99669\tvalidation_1-auc:0.92420\n",
      "[99]\tvalidation_0-auc:0.99672\tvalidation_1-auc:0.92440\n"
     ]
    },
    {
     "data": {
      "text/plain": [
       "XGBClassifier(base_score=0.5, booster='gbtree', colsample_bylevel=1,\n",
       "              colsample_bynode=1, colsample_bytree=1, gamma=0, gpu_id=-1,\n",
       "              importance_type='gain', interaction_constraints='',\n",
       "              learning_rate=0.300000012, max_delta_step=0, max_depth=6,\n",
       "              min_child_weight=1, missing=nan, monotone_constraints='()',\n",
       "              n_estimators=100, n_jobs=0, num_parallel_tree=1, random_state=1,\n",
       "              reg_alpha=0, reg_lambda=1, scale_pos_weight=1, subsample=1,\n",
       "              tree_method='exact', validate_parameters=1, verbosity=None)"
      ]
     },
     "execution_count": 21,
     "metadata": {},
     "output_type": "execute_result"
    }
   ],
   "source": [
    "model = xgb.XGBClassifier(random_state=1)\n",
    "model.fit(x_train, y_train, early_stopping_rounds=50, eval_metric=\"auc\", eval_set=[(x_train, y_train), (x_test, y_test)])"
   ]
  },
  {
   "cell_type": "code",
   "execution_count": 22,
   "metadata": {},
   "outputs": [
    {
     "name": "stdout",
     "output_type": "stream",
     "text": [
      "Train-score: 0.896, Test-score: 0.725\n"
     ]
    }
   ],
   "source": [
    "train_score = roc_auc_score(y_train, model.predict(x_train, ntree_limit=model.best_ntree_limit))\n",
    "test_score = roc_auc_score(y_test, model.predict(x_test, ntree_limit=model.best_ntree_limit))\n",
    "\n",
    "print(f\"Train-score: {round(train_score, 3)}, Test-score: {round(test_score, 3)}\")"
   ]
  },
  {
   "cell_type": "markdown",
   "metadata": {},
   "source": [
    "Выводы: было бы лучше, если бы качество на трейне было чуть ближе к качеству на тесте. Сейчас разница почти в 0.2 (0.9-0.7)"
   ]
  },
  {
   "cell_type": "markdown",
   "metadata": {},
   "source": [
    "### Задание 2: сделать Hold-Out валидацию с разбиением на 3 выборки, разбиение проводить по id-транзакции (TransactionID), размер каждой выборки подобрать самостоятельно. Повторить процедуру из п.1."
   ]
  },
  {
   "cell_type": "code",
   "execution_count": 59,
   "metadata": {},
   "outputs": [
    {
     "name": "stdout",
     "output_type": "stream",
     "text": [
      "x_train.shape = 35000 rows, 379 cols\n",
      "x_valid.shape = 10500 rows, 379 cols\n",
      "x_test.shape = 4501 rows, 379 cols\n"
     ]
    }
   ],
   "source": [
    "x_train, x_valid = train_test_split(\n",
    "    train.drop([\"isFraud\"], axis=1), train_size=0.7, shuffle=True, random_state=1,\n",
    ")\n",
    "y_train, y_valid = train_test_split(\n",
    "    train[\"isFraud\"], train_size=0.7, shuffle=True, random_state=1,\n",
    ")\n",
    "\n",
    "x_train = x_train[numerical_features]\n",
    "x_valid = x_valid[numerical_features]\n",
    "\n",
    "x_valid, x_test = train_test_split(\n",
    "    x_valid, train_size=0.7, shuffle=True, random_state=27\n",
    ")\n",
    "y_valid, y_test = train_test_split(\n",
    "    y_valid, train_size=0.7, shuffle=True, random_state=27\n",
    ")\n",
    "\n",
    "print(\"x_train.shape = {} rows, {} cols\".format(*x_train.shape))\n",
    "print(\"x_valid.shape = {} rows, {} cols\".format(*x_valid.shape))\n",
    "print(\"x_test.shape = {} rows, {} cols\".format(*x_test.shape))"
   ]
  },
  {
   "cell_type": "code",
   "execution_count": 24,
   "metadata": {},
   "outputs": [
    {
     "name": "stdout",
     "output_type": "stream",
     "text": [
      "[0]\tvalidation_0-auc:0.81297\tvalidation_1-auc:0.75310\n",
      "Multiple eval metrics have been passed: 'validation_1-auc' will be used for early stopping.\n",
      "\n",
      "Will train until validation_1-auc hasn't improved in 50 rounds.\n",
      "[1]\tvalidation_0-auc:0.82693\tvalidation_1-auc:0.77054\n",
      "[2]\tvalidation_0-auc:0.83375\tvalidation_1-auc:0.78330\n",
      "[3]\tvalidation_0-auc:0.84301\tvalidation_1-auc:0.78747\n",
      "[4]\tvalidation_0-auc:0.84654\tvalidation_1-auc:0.78894\n",
      "[5]\tvalidation_0-auc:0.85553\tvalidation_1-auc:0.79726\n",
      "[6]\tvalidation_0-auc:0.87551\tvalidation_1-auc:0.81995\n",
      "[7]\tvalidation_0-auc:0.88149\tvalidation_1-auc:0.82742\n",
      "[8]\tvalidation_0-auc:0.89110\tvalidation_1-auc:0.84356\n",
      "[9]\tvalidation_0-auc:0.90683\tvalidation_1-auc:0.87040\n",
      "[10]\tvalidation_0-auc:0.91259\tvalidation_1-auc:0.87117\n",
      "[11]\tvalidation_0-auc:0.92167\tvalidation_1-auc:0.88296\n",
      "[12]\tvalidation_0-auc:0.92553\tvalidation_1-auc:0.88337\n",
      "[13]\tvalidation_0-auc:0.93104\tvalidation_1-auc:0.89580\n",
      "[14]\tvalidation_0-auc:0.93682\tvalidation_1-auc:0.89673\n",
      "[15]\tvalidation_0-auc:0.94554\tvalidation_1-auc:0.89837\n",
      "[16]\tvalidation_0-auc:0.94853\tvalidation_1-auc:0.89985\n",
      "[17]\tvalidation_0-auc:0.95439\tvalidation_1-auc:0.90127\n",
      "[18]\tvalidation_0-auc:0.95648\tvalidation_1-auc:0.90453\n",
      "[19]\tvalidation_0-auc:0.95833\tvalidation_1-auc:0.90245\n",
      "[20]\tvalidation_0-auc:0.96118\tvalidation_1-auc:0.90500\n",
      "[21]\tvalidation_0-auc:0.96137\tvalidation_1-auc:0.90538\n",
      "[22]\tvalidation_0-auc:0.96291\tvalidation_1-auc:0.90325\n",
      "[23]\tvalidation_0-auc:0.96446\tvalidation_1-auc:0.90585\n",
      "[24]\tvalidation_0-auc:0.96568\tvalidation_1-auc:0.90805\n",
      "[25]\tvalidation_0-auc:0.96903\tvalidation_1-auc:0.90797\n",
      "[26]\tvalidation_0-auc:0.97054\tvalidation_1-auc:0.90892\n",
      "[27]\tvalidation_0-auc:0.97099\tvalidation_1-auc:0.91046\n",
      "[28]\tvalidation_0-auc:0.97144\tvalidation_1-auc:0.91110\n",
      "[29]\tvalidation_0-auc:0.97219\tvalidation_1-auc:0.91205\n",
      "[30]\tvalidation_0-auc:0.97248\tvalidation_1-auc:0.91300\n",
      "[31]\tvalidation_0-auc:0.97295\tvalidation_1-auc:0.91377\n",
      "[32]\tvalidation_0-auc:0.97411\tvalidation_1-auc:0.91359\n",
      "[33]\tvalidation_0-auc:0.97503\tvalidation_1-auc:0.91449\n",
      "[34]\tvalidation_0-auc:0.97566\tvalidation_1-auc:0.91485\n",
      "[35]\tvalidation_0-auc:0.97610\tvalidation_1-auc:0.91648\n",
      "[36]\tvalidation_0-auc:0.97696\tvalidation_1-auc:0.91885\n",
      "[37]\tvalidation_0-auc:0.97961\tvalidation_1-auc:0.91600\n",
      "[38]\tvalidation_0-auc:0.98067\tvalidation_1-auc:0.91744\n",
      "[39]\tvalidation_0-auc:0.98104\tvalidation_1-auc:0.91863\n",
      "[40]\tvalidation_0-auc:0.98133\tvalidation_1-auc:0.91845\n",
      "[41]\tvalidation_0-auc:0.98153\tvalidation_1-auc:0.91856\n",
      "[42]\tvalidation_0-auc:0.98206\tvalidation_1-auc:0.91866\n",
      "[43]\tvalidation_0-auc:0.98276\tvalidation_1-auc:0.92171\n",
      "[44]\tvalidation_0-auc:0.98347\tvalidation_1-auc:0.92117\n",
      "[45]\tvalidation_0-auc:0.98375\tvalidation_1-auc:0.92111\n",
      "[46]\tvalidation_0-auc:0.98417\tvalidation_1-auc:0.92135\n",
      "[47]\tvalidation_0-auc:0.98470\tvalidation_1-auc:0.92258\n",
      "[48]\tvalidation_0-auc:0.98481\tvalidation_1-auc:0.92293\n",
      "[49]\tvalidation_0-auc:0.98541\tvalidation_1-auc:0.92325\n",
      "[50]\tvalidation_0-auc:0.98551\tvalidation_1-auc:0.92318\n",
      "[51]\tvalidation_0-auc:0.98664\tvalidation_1-auc:0.92173\n",
      "[52]\tvalidation_0-auc:0.98744\tvalidation_1-auc:0.92136\n",
      "[53]\tvalidation_0-auc:0.98794\tvalidation_1-auc:0.92176\n",
      "[54]\tvalidation_0-auc:0.98821\tvalidation_1-auc:0.92222\n",
      "[55]\tvalidation_0-auc:0.98883\tvalidation_1-auc:0.92380\n",
      "[56]\tvalidation_0-auc:0.98901\tvalidation_1-auc:0.92339\n",
      "[57]\tvalidation_0-auc:0.98921\tvalidation_1-auc:0.92340\n",
      "[58]\tvalidation_0-auc:0.98945\tvalidation_1-auc:0.92253\n",
      "[59]\tvalidation_0-auc:0.98990\tvalidation_1-auc:0.92240\n",
      "[60]\tvalidation_0-auc:0.98996\tvalidation_1-auc:0.92247\n",
      "[61]\tvalidation_0-auc:0.99006\tvalidation_1-auc:0.92274\n",
      "[62]\tvalidation_0-auc:0.99048\tvalidation_1-auc:0.92316\n",
      "[63]\tvalidation_0-auc:0.99061\tvalidation_1-auc:0.92335\n",
      "[64]\tvalidation_0-auc:0.99088\tvalidation_1-auc:0.92446\n",
      "[65]\tvalidation_0-auc:0.99088\tvalidation_1-auc:0.92449\n",
      "[66]\tvalidation_0-auc:0.99091\tvalidation_1-auc:0.92444\n",
      "[67]\tvalidation_0-auc:0.99108\tvalidation_1-auc:0.92390\n",
      "[68]\tvalidation_0-auc:0.99151\tvalidation_1-auc:0.92422\n",
      "[69]\tvalidation_0-auc:0.99218\tvalidation_1-auc:0.92574\n",
      "[70]\tvalidation_0-auc:0.99240\tvalidation_1-auc:0.92632\n",
      "[71]\tvalidation_0-auc:0.99350\tvalidation_1-auc:0.92809\n",
      "[72]\tvalidation_0-auc:0.99354\tvalidation_1-auc:0.92828\n",
      "[73]\tvalidation_0-auc:0.99403\tvalidation_1-auc:0.92644\n",
      "[74]\tvalidation_0-auc:0.99415\tvalidation_1-auc:0.92689\n",
      "[75]\tvalidation_0-auc:0.99430\tvalidation_1-auc:0.92560\n",
      "[76]\tvalidation_0-auc:0.99443\tvalidation_1-auc:0.92589\n",
      "[77]\tvalidation_0-auc:0.99453\tvalidation_1-auc:0.92629\n",
      "[78]\tvalidation_0-auc:0.99456\tvalidation_1-auc:0.92663\n",
      "[79]\tvalidation_0-auc:0.99466\tvalidation_1-auc:0.92630\n",
      "[80]\tvalidation_0-auc:0.99470\tvalidation_1-auc:0.92621\n",
      "[81]\tvalidation_0-auc:0.99476\tvalidation_1-auc:0.92643\n",
      "[82]\tvalidation_0-auc:0.99481\tvalidation_1-auc:0.92645\n",
      "[83]\tvalidation_0-auc:0.99499\tvalidation_1-auc:0.92747\n",
      "[84]\tvalidation_0-auc:0.99540\tvalidation_1-auc:0.92809\n",
      "[85]\tvalidation_0-auc:0.99553\tvalidation_1-auc:0.92875\n",
      "[86]\tvalidation_0-auc:0.99560\tvalidation_1-auc:0.92822\n",
      "[87]\tvalidation_0-auc:0.99575\tvalidation_1-auc:0.92851\n",
      "[88]\tvalidation_0-auc:0.99581\tvalidation_1-auc:0.92889\n",
      "[89]\tvalidation_0-auc:0.99595\tvalidation_1-auc:0.92910\n",
      "[90]\tvalidation_0-auc:0.99607\tvalidation_1-auc:0.92924\n",
      "[91]\tvalidation_0-auc:0.99633\tvalidation_1-auc:0.92790\n",
      "[92]\tvalidation_0-auc:0.99639\tvalidation_1-auc:0.92819\n",
      "[93]\tvalidation_0-auc:0.99651\tvalidation_1-auc:0.92786\n",
      "[94]\tvalidation_0-auc:0.99657\tvalidation_1-auc:0.92741\n",
      "[95]\tvalidation_0-auc:0.99690\tvalidation_1-auc:0.92641\n",
      "[96]\tvalidation_0-auc:0.99701\tvalidation_1-auc:0.92639\n",
      "[97]\tvalidation_0-auc:0.99714\tvalidation_1-auc:0.92673\n",
      "[98]\tvalidation_0-auc:0.99724\tvalidation_1-auc:0.92693\n",
      "[99]\tvalidation_0-auc:0.99728\tvalidation_1-auc:0.92724\n"
     ]
    },
    {
     "data": {
      "text/plain": [
       "XGBClassifier(base_score=0.5, booster='gbtree', colsample_bylevel=1,\n",
       "              colsample_bynode=1, colsample_bytree=1, gamma=0, gpu_id=-1,\n",
       "              importance_type='gain', interaction_constraints='',\n",
       "              learning_rate=0.300000012, max_delta_step=0, max_depth=6,\n",
       "              min_child_weight=1, missing=nan, monotone_constraints='()',\n",
       "              n_estimators=100, n_jobs=0, num_parallel_tree=1, random_state=1,\n",
       "              reg_alpha=0, reg_lambda=1, scale_pos_weight=1, subsample=1,\n",
       "              tree_method='exact', validate_parameters=1, verbosity=None)"
      ]
     },
     "execution_count": 24,
     "metadata": {},
     "output_type": "execute_result"
    }
   ],
   "source": [
    "model = xgb.XGBClassifier(random_state=1)\n",
    "model.fit(x_train, y_train, early_stopping_rounds=50, eval_metric=\"auc\", eval_set=[(x_train, y_train), (x_test, y_test)])"
   ]
  },
  {
   "cell_type": "code",
   "execution_count": 26,
   "metadata": {},
   "outputs": [
    {
     "name": "stdout",
     "output_type": "stream",
     "text": [
      "Train-score: 0.882, Valid-score: 0.727, Test-score: 0.707\n"
     ]
    }
   ],
   "source": [
    "train_score = roc_auc_score(y_train, model.predict(x_train))\n",
    "valid_score = roc_auc_score(y_valid, model.predict(x_valid))\n",
    "test_score = roc_auc_score(y_test, model.predict(x_test))\n",
    "\n",
    "print(f\"Train-score: {round(train_score, 3)}, Valid-score: {round(valid_score, 3)}, Test-score: {round(test_score, 3)}\")"
   ]
  },
  {
   "cell_type": "markdown",
   "metadata": {},
   "source": [
    "Вывод: по сравнению с пунктом 1 результаты лучше, разница между трейном и валидом меньше."
   ]
  },
  {
   "cell_type": "markdown",
   "metadata": {},
   "source": [
    "### Задание 3: построить доверительный интервал на данных из п.2 на основе бутстреп выборок, оценить качество модели на тестовом выборке относительно полученного доверительного интервала"
   ]
  },
  {
   "cell_type": "code",
   "execution_count": 29,
   "metadata": {},
   "outputs": [],
   "source": [
    "def create_bootstrap_samples(data: np.array, n_samples: int = 1000) -> np.array:\n",
    "    \"\"\"\n",
    "    Создание бутстреп-выборок.\n",
    "\n",
    "    Parameters\n",
    "    ----------\n",
    "    data: np.array\n",
    "        Исходная выборка, которая будет использоваться для\n",
    "        создания бутстреп выборок.\n",
    "\n",
    "    n_samples: int, optional, default = 1000\n",
    "        Количество создаваемых бутстреп выборок.\n",
    "        Опциональный параметр, по умолчанию, равен 1000.\n",
    "\n",
    "    Returns\n",
    "    -------\n",
    "    bootstrap_idx: np.array\n",
    "        Матрица индексов, для создания бутстреп выборок.\n",
    "\n",
    "    \"\"\"\n",
    "    bootstrap_idx = np.random.randint(\n",
    "        low=0, high=len(data), size=(n_samples, len(data))\n",
    "    )\n",
    "    return bootstrap_idx\n",
    "\n",
    "\n",
    "def create_bootstrap_metrics(y_true: np.array,\n",
    "                             y_pred: np.array,\n",
    "                             metric: callable,\n",
    "                             n_samlpes: int = 1000) -> List[float]:\n",
    "    \"\"\"\n",
    "    Вычисление бутстреп оценок.\n",
    "\n",
    "    Parameters\n",
    "    ----------\n",
    "    y_true: np.array\n",
    "        Вектор целевой переменной.\n",
    "\n",
    "    y_pred: np.array\n",
    "        Вектор прогнозов.\n",
    "\n",
    "    metric: callable\n",
    "        Функция для вычисления метрики.\n",
    "        Функция должна принимать 2 аргумента: y_true, y_pred.\n",
    "\n",
    "    n_samples: int, optional, default = 1000\n",
    "        Количество создаваемых бутстреп выборок.\n",
    "        Опциональный параметр, по умолчанию, равен 1000.\n",
    "\n",
    "    Returns\n",
    "    -------\n",
    "    bootstrap_metrics: List[float]\n",
    "        Список со значениями метрики качества на каждой бустреп выборке.\n",
    "\n",
    "    \"\"\"\n",
    "    scores = []\n",
    "\n",
    "    if isinstance(y_true, pd.Series):\n",
    "        y_true = y_true.values\n",
    "\n",
    "    bootstrap_idx = create_bootstrap_samples(y_true)\n",
    "    for idx in bootstrap_idx:\n",
    "        y_true_bootstrap = y_true[idx]\n",
    "        y_pred_bootstrap = y_pred[idx]\n",
    "\n",
    "        score = metric(y_true_bootstrap, y_pred_bootstrap)\n",
    "        scores.append(score)\n",
    "\n",
    "    return scores\n",
    "\n",
    "\n",
    "def calculate_confidence_interval(scores: list, conf_interval: float = 0.95) -> Tuple[float]:\n",
    "    \"\"\"\n",
    "    Вычисление доверительного интервала.\n",
    "\n",
    "    Parameters\n",
    "    ----------\n",
    "    scores: List[float / int]\n",
    "        Список с оценками изучаемой величины.\n",
    "\n",
    "    conf_interval: float, optional, default = 0.95\n",
    "        Уровень доверия для построения интервала.\n",
    "        Опциональный параметр, по умолчанию, равен 0.95.\n",
    "\n",
    "    Returns\n",
    "    -------\n",
    "    conf_interval: Tuple[float]\n",
    "        Кортеж с границами доверительного интервала.\n",
    "\n",
    "    \"\"\"\n",
    "    left_bound = np.percentile(\n",
    "        scores, ((1 - conf_interval) / 2) * 100\n",
    "    )\n",
    "    right_bound = np.percentile(\n",
    "        scores, (conf_interval + ((1 - conf_interval) / 2)) * 100\n",
    "    )\n",
    "\n",
    "    return left_bound, right_bound"
   ]
  },
  {
   "cell_type": "code",
   "execution_count": 30,
   "metadata": {},
   "outputs": [
    {
     "data": {
      "text/plain": [
       "(0.6659583803257876, 0.7553437525285748)"
      ]
     },
     "execution_count": 30,
     "metadata": {},
     "output_type": "execute_result"
    }
   ],
   "source": [
    "np.random.seed(27)\n",
    "scores = create_bootstrap_metrics(y_test, model.predict(x_test), roc_auc_score)\n",
    "\n",
    "calculate_confidence_interval(scores)"
   ]
  },
  {
   "cell_type": "code",
   "execution_count": 33,
   "metadata": {},
   "outputs": [
    {
     "data": {
      "text/plain": [
       "Text(0.5, 0, 'sample number')"
      ]
     },
     "execution_count": 33,
     "metadata": {},
     "output_type": "execute_result"
    },
    {
     "data": {
      "image/png": "[encoded data removed]",
      "text/plain": [
       "<Figure size 1080x360 with 2 Axes>"
      ]
     },
     "metadata": {
      "needs_background": "light"
     },
     "output_type": "display_data"
    }
   ],
   "source": [
    "fig, axes = plt.subplots(1, 2, figsize=(15, 5))\n",
    "plt.suptitle(\"Bootstrap for evaluating validation stability\", size=15)\n",
    "axes[1].scatter(range(len(scores)), scores, alpha=0.25, color=\"blue\")\n",
    "axes[1].set_xlabel(\"sample number\", size=15)\n",
    "axes[1].set_ylabel(\"roc_auc\", size=15)\n",
    "\n",
    "sns.distplot(scores, ax=axes[0], color=\"green\", bins=20)\n",
    "axes[0].set_xlabel(\"sample number\", size=15)"
   ]
  },
  {
   "cell_type": "markdown",
   "metadata": {},
   "source": [
    "Вывод: качество на тесте в пункте 2 было Test-score: 0.707, оно лежит внутри доверительного интервала - валидация хорошая"
   ]
  },
  {
   "cell_type": "markdown",
   "metadata": {},
   "source": [
    "### Задание 4: выполнить Adversarial Validation на основе данных из обучения / теста, подобрать объема из обучающей выборки, которые сильно похожи на объекты из тестовой выборки, и использовать их в качестве валидационного набора. Сделать выводы о полученных результатах."
   ]
  },
  {
   "cell_type": "markdown",
   "metadata": {},
   "source": [
    "Найдем объекты тестовой выборки, которые больше похожи на объекты из обучающей выборки.\n",
    "Удалим колонки __TransactionID__ и __TransactionDT__, т.к. они уникальны по всему датасету"
   ]
  },
  {
   "cell_type": "code",
   "execution_count": 60,
   "metadata": {},
   "outputs": [],
   "source": [
    "x_train = x_train.drop([\"TransactionID\", \"TransactionDT\"], axis=1)\n",
    "x_valid = x_valid.drop([\"TransactionID\", \"TransactionDT\"], axis=1)\n",
    "\n",
    "x_adv = pd.concat([\n",
    "    x_train, x_valid], axis=0)\n",
    "\n",
    "y_adv = np.hstack((np.zeros(x_train.shape[0]), np.ones(x_valid.shape[0])))\n",
    "assert x_adv.shape[0] == y_adv.shape[0]"
   ]
  },
  {
   "cell_type": "code",
   "execution_count": 61,
   "metadata": {},
   "outputs": [
    {
     "name": "stdout",
     "output_type": "stream",
     "text": [
      "[0]\tvalidation_0-auc:0.50865\tvalidation_1-auc:0.43557\n",
      "Multiple eval metrics have been passed: 'validation_1-auc' will be used for early stopping.\n",
      "\n",
      "Will train until validation_1-auc hasn't improved in 50 rounds.\n",
      "[1]\tvalidation_0-auc:0.51250\tvalidation_1-auc:0.43595\n",
      "[2]\tvalidation_0-auc:0.51700\tvalidation_1-auc:0.43026\n",
      "[3]\tvalidation_0-auc:0.53082\tvalidation_1-auc:0.46466\n",
      "[4]\tvalidation_0-auc:0.54715\tvalidation_1-auc:0.47511\n",
      "[5]\tvalidation_0-auc:0.55610\tvalidation_1-auc:0.52140\n",
      "[6]\tvalidation_0-auc:0.56920\tvalidation_1-auc:0.52797\n",
      "[7]\tvalidation_0-auc:0.57683\tvalidation_1-auc:0.51050\n",
      "[8]\tvalidation_0-auc:0.58007\tvalidation_1-auc:0.50489\n",
      "[9]\tvalidation_0-auc:0.58659\tvalidation_1-auc:0.49374\n",
      "[10]\tvalidation_0-auc:0.59590\tvalidation_1-auc:0.49567\n",
      "[11]\tvalidation_0-auc:0.59937\tvalidation_1-auc:0.50501\n",
      "[12]\tvalidation_0-auc:0.60242\tvalidation_1-auc:0.52116\n",
      "[13]\tvalidation_0-auc:0.60850\tvalidation_1-auc:0.54574\n",
      "[14]\tvalidation_0-auc:0.61615\tvalidation_1-auc:0.54332\n",
      "[15]\tvalidation_0-auc:0.61745\tvalidation_1-auc:0.54731\n",
      "[16]\tvalidation_0-auc:0.62479\tvalidation_1-auc:0.55409\n",
      "[17]\tvalidation_0-auc:0.63249\tvalidation_1-auc:0.54179\n",
      "[18]\tvalidation_0-auc:0.64292\tvalidation_1-auc:0.55866\n",
      "[19]\tvalidation_0-auc:0.64555\tvalidation_1-auc:0.57089\n",
      "[20]\tvalidation_0-auc:0.64691\tvalidation_1-auc:0.56983\n",
      "[21]\tvalidation_0-auc:0.64844\tvalidation_1-auc:0.57468\n",
      "[22]\tvalidation_0-auc:0.64929\tvalidation_1-auc:0.58708\n",
      "[23]\tvalidation_0-auc:0.65304\tvalidation_1-auc:0.57959\n",
      "[24]\tvalidation_0-auc:0.65745\tvalidation_1-auc:0.57434\n",
      "[25]\tvalidation_0-auc:0.66428\tvalidation_1-auc:0.57545\n",
      "[26]\tvalidation_0-auc:0.66649\tvalidation_1-auc:0.58337\n",
      "[27]\tvalidation_0-auc:0.66838\tvalidation_1-auc:0.58301\n",
      "[28]\tvalidation_0-auc:0.67229\tvalidation_1-auc:0.58117\n",
      "[29]\tvalidation_0-auc:0.68017\tvalidation_1-auc:0.59307\n",
      "[30]\tvalidation_0-auc:0.68211\tvalidation_1-auc:0.59332\n",
      "[31]\tvalidation_0-auc:0.68675\tvalidation_1-auc:0.60632\n",
      "[32]\tvalidation_0-auc:0.69030\tvalidation_1-auc:0.61681\n",
      "[33]\tvalidation_0-auc:0.69473\tvalidation_1-auc:0.61891\n",
      "[34]\tvalidation_0-auc:0.69510\tvalidation_1-auc:0.61880\n",
      "[35]\tvalidation_0-auc:0.69640\tvalidation_1-auc:0.62870\n",
      "[36]\tvalidation_0-auc:0.69668\tvalidation_1-auc:0.62785\n",
      "[37]\tvalidation_0-auc:0.69949\tvalidation_1-auc:0.62790\n",
      "[38]\tvalidation_0-auc:0.70170\tvalidation_1-auc:0.63031\n",
      "[39]\tvalidation_0-auc:0.70319\tvalidation_1-auc:0.63195\n",
      "[40]\tvalidation_0-auc:0.70408\tvalidation_1-auc:0.63095\n",
      "[41]\tvalidation_0-auc:0.70834\tvalidation_1-auc:0.63537\n",
      "[42]\tvalidation_0-auc:0.70972\tvalidation_1-auc:0.63411\n",
      "[43]\tvalidation_0-auc:0.70995\tvalidation_1-auc:0.63179\n",
      "[44]\tvalidation_0-auc:0.71384\tvalidation_1-auc:0.63493\n",
      "[45]\tvalidation_0-auc:0.71521\tvalidation_1-auc:0.63369\n",
      "[46]\tvalidation_0-auc:0.71847\tvalidation_1-auc:0.63349\n",
      "[47]\tvalidation_0-auc:0.72117\tvalidation_1-auc:0.63279\n",
      "[48]\tvalidation_0-auc:0.72426\tvalidation_1-auc:0.63216\n",
      "[49]\tvalidation_0-auc:0.72549\tvalidation_1-auc:0.63119\n",
      "[50]\tvalidation_0-auc:0.72883\tvalidation_1-auc:0.62608\n",
      "[51]\tvalidation_0-auc:0.72911\tvalidation_1-auc:0.62711\n",
      "[52]\tvalidation_0-auc:0.73068\tvalidation_1-auc:0.62769\n",
      "[53]\tvalidation_0-auc:0.73342\tvalidation_1-auc:0.62924\n",
      "[54]\tvalidation_0-auc:0.73511\tvalidation_1-auc:0.62758\n",
      "[55]\tvalidation_0-auc:0.73836\tvalidation_1-auc:0.62543\n",
      "[56]\tvalidation_0-auc:0.73962\tvalidation_1-auc:0.62422\n",
      "[57]\tvalidation_0-auc:0.74509\tvalidation_1-auc:0.61990\n",
      "[58]\tvalidation_0-auc:0.74935\tvalidation_1-auc:0.61508\n",
      "[59]\tvalidation_0-auc:0.75180\tvalidation_1-auc:0.61249\n",
      "[60]\tvalidation_0-auc:0.75610\tvalidation_1-auc:0.61458\n",
      "[61]\tvalidation_0-auc:0.75924\tvalidation_1-auc:0.61587\n",
      "[62]\tvalidation_0-auc:0.76070\tvalidation_1-auc:0.62186\n",
      "[63]\tvalidation_0-auc:0.76165\tvalidation_1-auc:0.62351\n",
      "[64]\tvalidation_0-auc:0.76575\tvalidation_1-auc:0.62316\n",
      "[65]\tvalidation_0-auc:0.76753\tvalidation_1-auc:0.62448\n",
      "[66]\tvalidation_0-auc:0.76928\tvalidation_1-auc:0.62558\n",
      "[67]\tvalidation_0-auc:0.76965\tvalidation_1-auc:0.62516\n",
      "[68]\tvalidation_0-auc:0.77056\tvalidation_1-auc:0.62882\n",
      "[69]\tvalidation_0-auc:0.77389\tvalidation_1-auc:0.62727\n",
      "[70]\tvalidation_0-auc:0.77458\tvalidation_1-auc:0.63276\n",
      "[71]\tvalidation_0-auc:0.77527\tvalidation_1-auc:0.63550\n",
      "[72]\tvalidation_0-auc:0.77723\tvalidation_1-auc:0.64627\n",
      "[73]\tvalidation_0-auc:0.78056\tvalidation_1-auc:0.64477\n",
      "[74]\tvalidation_0-auc:0.78116\tvalidation_1-auc:0.64711\n",
      "[75]\tvalidation_0-auc:0.78131\tvalidation_1-auc:0.64963\n",
      "[76]\tvalidation_0-auc:0.78180\tvalidation_1-auc:0.65061\n",
      "[77]\tvalidation_0-auc:0.78195\tvalidation_1-auc:0.65102\n",
      "[78]\tvalidation_0-auc:0.78483\tvalidation_1-auc:0.64803\n",
      "[79]\tvalidation_0-auc:0.78783\tvalidation_1-auc:0.65070\n",
      "[80]\tvalidation_0-auc:0.78877\tvalidation_1-auc:0.64879\n",
      "[81]\tvalidation_0-auc:0.78909\tvalidation_1-auc:0.64798\n",
      "[82]\tvalidation_0-auc:0.79169\tvalidation_1-auc:0.64435\n",
      "[83]\tvalidation_0-auc:0.79281\tvalidation_1-auc:0.64282\n",
      "[84]\tvalidation_0-auc:0.79484\tvalidation_1-auc:0.64128\n",
      "[85]\tvalidation_0-auc:0.79503\tvalidation_1-auc:0.64194\n",
      "[86]\tvalidation_0-auc:0.79621\tvalidation_1-auc:0.64228\n",
      "[87]\tvalidation_0-auc:0.79859\tvalidation_1-auc:0.63779\n",
      "[88]\tvalidation_0-auc:0.80202\tvalidation_1-auc:0.64096\n",
      "[89]\tvalidation_0-auc:0.80626\tvalidation_1-auc:0.64370\n",
      "[90]\tvalidation_0-auc:0.80765\tvalidation_1-auc:0.64399\n",
      "[91]\tvalidation_0-auc:0.81009\tvalidation_1-auc:0.64217\n",
      "[92]\tvalidation_0-auc:0.81019\tvalidation_1-auc:0.64207\n",
      "[93]\tvalidation_0-auc:0.81161\tvalidation_1-auc:0.64415\n",
      "[94]\tvalidation_0-auc:0.81274\tvalidation_1-auc:0.64978\n",
      "[95]\tvalidation_0-auc:0.81310\tvalidation_1-auc:0.64955\n",
      "[96]\tvalidation_0-auc:0.81327\tvalidation_1-auc:0.64993\n",
      "[97]\tvalidation_0-auc:0.81334\tvalidation_1-auc:0.64984\n",
      "[98]\tvalidation_0-auc:0.81573\tvalidation_1-auc:0.64620\n",
      "[99]\tvalidation_0-auc:0.81756\tvalidation_1-auc:0.64496\n"
     ]
    },
    {
     "data": {
      "text/plain": [
       "XGBClassifier(base_score=0.5, booster='gbtree', colsample_bylevel=1,\n",
       "              colsample_bynode=1, colsample_bytree=1, gamma=0, gpu_id=-1,\n",
       "              importance_type='gain', interaction_constraints='',\n",
       "              learning_rate=0.300000012, max_delta_step=0, max_depth=6,\n",
       "              min_child_weight=1, missing=nan, monotone_constraints='()',\n",
       "              n_estimators=100, n_jobs=0, num_parallel_tree=1, random_state=1,\n",
       "              reg_alpha=0, reg_lambda=1, scale_pos_weight=1, subsample=1,\n",
       "              tree_method='exact', validate_parameters=1, verbosity=None)"
      ]
     },
     "execution_count": 61,
     "metadata": {},
     "output_type": "execute_result"
    }
   ],
   "source": [
    "model = xgb.XGBClassifier(random_state=1)\n",
    "model.fit(x_adv, y_adv, early_stopping_rounds=50, eval_metric=\"auc\", eval_set=[(x_adv, y_adv), (x_valid, y_valid)])"
   ]
  },
  {
   "cell_type": "code",
   "execution_count": 62,
   "metadata": {},
   "outputs": [],
   "source": [
    "y_pred = model.predict_proba(x_train[numerical_features[2:]])"
   ]
  },
  {
   "cell_type": "code",
   "execution_count": 63,
   "metadata": {},
   "outputs": [
    {
     "data": {
      "text/plain": [
       "(0.0, 0.1]     1176\n",
       "(0.1, 0.2]    11075\n",
       "(0.2, 0.3]    21504\n",
       "(0.3, 0.4]     1138\n",
       "(0.4, 0.5]       98\n",
       "(0.5, 0.6]        8\n",
       "(0.6, 0.7]        1\n",
       "(0.7, 0.8]        0\n",
       "(0.8, 0.9]        0\n",
       "(0.9, 1.0]        0\n",
       "dtype: int64"
      ]
     },
     "execution_count": 63,
     "metadata": {},
     "output_type": "execute_result"
    }
   ],
   "source": [
    "pd.cut(\n",
    "    y_pred[:, 1], bins=np.arange(0, 1.01, 0.1)\n",
    ").value_counts().sort_index()"
   ]
  },
  {
   "cell_type": "markdown",
   "metadata": {},
   "source": [
    "Вывод: получается более менее похожий объект всего 1. Не получилось. Возможно потому что взяла только числовые колонки датасета."
   ]
  },
  {
   "cell_type": "markdown",
   "metadata": {},
   "source": [
    "### Задание 5: сделать KFold / StratifiedKFold валидацию (на ваше усмотрение), оценить получаемые качество и разброс по метрике качества. Сделать выводы об устойчивости кросс-валидации, сходимости оценки на кросс-валидации и отложенном наборе данных;"
   ]
  },
  {
   "cell_type": "markdown",
   "metadata": {},
   "source": [
    "Мы имеем сильно несбалансированный набор данных, будем использовать StratifiedKFold валидацию"
   ]
  },
  {
   "cell_type": "code",
   "execution_count": 64,
   "metadata": {},
   "outputs": [],
   "source": [
    "def make_cross_validation(X: pd.DataFrame,\n",
    "                          y: pd.Series,\n",
    "                          estimator: object,\n",
    "                          metric: callable,\n",
    "                          cv_strategy):\n",
    "    \"\"\"\n",
    "    Кросс-валидация.\n",
    "\n",
    "    Parameters\n",
    "    ----------\n",
    "    X: pd.DataFrame\n",
    "        Матрица признаков.\n",
    "\n",
    "    y: pd.Series\n",
    "        Вектор целевой переменной.\n",
    "\n",
    "    estimator: callable\n",
    "        Объект модели для обучения.\n",
    "\n",
    "    metric: callable\n",
    "        Метрика для оценки качества решения.\n",
    "        Ожидается, что на вход будет передана функция,\n",
    "        которая принимает 2 аргумента: y_true, y_pred.\n",
    "\n",
    "    cv_strategy: cross-validation generator\n",
    "        Объект для описания стратегии кросс-валидации.\n",
    "        Ожидается, что на вход будет передан объект типа\n",
    "        KFold или StratifiedKFold.\n",
    "\n",
    "    Returns\n",
    "    -------\n",
    "    oof_score: float\n",
    "        Значение метрики качества на OOF-прогнозах.\n",
    "\n",
    "    fold_train_scores: List[float]\n",
    "        Значение метрики качества на каждом обучающем датасете кросс-валидации.\n",
    "\n",
    "    fold_valid_scores: List[float]\n",
    "        Значение метрики качества на каждом валидационном датасете кросс-валидации.\n",
    "\n",
    "    oof_predictions: np.array\n",
    "        Прогнозы на OOF.\n",
    "\n",
    "    \"\"\"\n",
    "    estimators, fold_train_scores, fold_valid_scores = [], [], []\n",
    "    oof_predictions = np.zeros(X.shape[0])\n",
    "\n",
    "    for fold_number, (train_idx, valid_idx) in enumerate(cv_strategy.split(X, y)):\n",
    "        x_train, x_valid = X.loc[train_idx], X.loc[valid_idx]\n",
    "        y_train, y_valid = y.loc[train_idx], y.loc[valid_idx]\n",
    "\n",
    "        estimator.fit(x_train, y_train)\n",
    "        y_train_pred = estimator.predict(x_train)\n",
    "        y_valid_pred = estimator.predict(x_valid)\n",
    "\n",
    "        fold_train_scores.append(metric(y_train, y_train_pred))\n",
    "        fold_valid_scores.append(metric(y_valid, y_valid_pred))\n",
    "        oof_predictions[valid_idx] = y_valid_pred\n",
    "\n",
    "        msg = (\n",
    "            f\"Fold: {fold_number+1}, train-observations = {len(train_idx)}, \"\n",
    "            f\"valid-observations = {len(valid_idx)}\\n\"\n",
    "            f\"train-score = {round(fold_train_scores[fold_number], 4)}, \"\n",
    "            f\"valid-score = {round(fold_valid_scores[fold_number], 4)}\" \n",
    "        )\n",
    "        print(msg)\n",
    "        print(\"=\"*69)\n",
    "        estimators.append(estimator)\n",
    "\n",
    "    oof_score = metric(y, oof_predictions)\n",
    "    print(f\"CV-results train: {round(np.mean(fold_train_scores), 4)} +/- {round(np.std(fold_train_scores), 3)}\")\n",
    "    print(f\"CV-results valid: {round(np.mean(fold_valid_scores), 4)} +/- {round(np.std(fold_valid_scores), 3)}\")\n",
    "    print(f\"OOF-score = {round(oof_score, 4)}\")\n",
    "\n",
    "    return estimators, oof_score, fold_train_scores, fold_valid_scores, oof_predictions"
   ]
  },
  {
   "cell_type": "code",
   "execution_count": 66,
   "metadata": {},
   "outputs": [
    {
     "name": "stdout",
     "output_type": "stream",
     "text": [
      "Fold: 1, train-observations = 40000, valid-observations = 10001\n",
      "train-score = 0.8654, valid-score = 0.6101\n",
      "=====================================================================\n",
      "Fold: 2, train-observations = 40001, valid-observations = 10000\n",
      "train-score = 0.8798, valid-score = 0.6648\n",
      "=====================================================================\n",
      "Fold: 3, train-observations = 40001, valid-observations = 10000\n",
      "train-score = 0.8702, valid-score = 0.722\n",
      "=====================================================================\n",
      "Fold: 4, train-observations = 40001, valid-observations = 10000\n",
      "train-score = 0.8775, valid-score = 0.7097\n",
      "=====================================================================\n",
      "Fold: 5, train-observations = 40001, valid-observations = 10000\n",
      "train-score = 0.8668, valid-score = 0.5239\n",
      "=====================================================================\n",
      "CV-results train: 0.8719 +/- 0.006\n",
      "CV-results valid: 0.6461 +/- 0.073\n",
      "OOF-score = 0.646\n"
     ]
    }
   ],
   "source": [
    "cv_strategy = StratifiedKFold (n_splits=5, random_state=1)\n",
    "\n",
    "estimators, oof_score, fold_train_scores, fold_valid_scores, oof_predictions = make_cross_validation(\n",
    "    train[numerical_features], train[\"isFraud\"], model, metric=roc_auc_score, cv_strategy=cv_strategy\n",
    ")"
   ]
  },
  {
   "cell_type": "code",
   "execution_count": null,
   "metadata": {},
   "outputs": [],
   "source": []
  }
 ],
 "metadata": {
  "kernelspec": {
   "display_name": "Python 3",
   "language": "python",
   "name": "python3"
  },
  "language_info": {
   "codemirror_mode": {
    "name": "ipython",
    "version": 3
   },
   "file_extension": ".py",
   "mimetype": "text/x-python",
   "name": "python",
   "nbconvert_exporter": "python",
   "pygments_lexer": "ipython3",
   "version": "3.7.4"
  }
 },
 "nbformat": 4,
 "nbformat_minor": 4
}
