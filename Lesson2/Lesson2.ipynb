{
 "cells": [
  {
   "cell_type": "code",
   "execution_count": 97,
   "metadata": {},
   "outputs": [],
   "source": [
    "from typing import List, Optional\n",
    "\n",
    "import numpy as np\n",
    "import pandas as pd\n",
    "import matplotlib as mpl\n",
    "import matplotlib.pyplot as plt\n",
    "import seaborn as sns\n",
    "\n",
    "import scipy.stats as st\n",
    "\n",
    "from sklearn.metrics import roc_auc_score, roc_auc_score\n",
    "from sklearn.ensemble import RandomForestRegressor\n",
    "from sklearn.model_selection import KFold, StratifiedKFold, train_test_split, cross_val_score\n",
    "from sklearn.utils.validation import check_is_fitted\n",
    "import xgboost as xgb\n",
    "%matplotlib inline"
   ]
  },
  {
   "cell_type": "code",
   "execution_count": 2,
   "metadata": {},
   "outputs": [
    {
     "name": "stdout",
     "output_type": "stream",
     "text": [
      "train.shape = 50001 rows, 394 cols\n",
      "test.shape = 75000 rows, 394 cols\n"
     ]
    }
   ],
   "source": [
    "train = pd.read_csv(\"assignment_train.csv\")\n",
    "test = pd.read_csv(\"assignment_test.csv\")\n",
    "\n",
    "print(\"train.shape = {} rows, {} cols\".format(*train.shape))\n",
    "print(\"test.shape = {} rows, {} cols\".format(*test.shape))"
   ]
  },
  {
   "cell_type": "code",
   "execution_count": 3,
   "metadata": {},
   "outputs": [
    {
     "data": {
      "text/html": [
       "<div>\n",
       "<style scoped>\n",
       "    .dataframe tbody tr th:only-of-type {\n",
       "        vertical-align: middle;\n",
       "    }\n",
       "\n",
       "    .dataframe tbody tr th {\n",
       "        vertical-align: top;\n",
       "    }\n",
       "\n",
       "    .dataframe thead th {\n",
       "        text-align: right;\n",
       "    }\n",
       "</style>\n",
       "<table border=\"1\" class=\"dataframe\">\n",
       "  <thead>\n",
       "    <tr style=\"text-align: right;\">\n",
       "      <th></th>\n",
       "      <th>TransactionID</th>\n",
       "      <th>isFraud</th>\n",
       "      <th>TransactionDT</th>\n",
       "      <th>TransactionAmt</th>\n",
       "      <th>card1</th>\n",
       "      <th>card2</th>\n",
       "      <th>card3</th>\n",
       "      <th>card5</th>\n",
       "      <th>addr1</th>\n",
       "      <th>addr2</th>\n",
       "      <th>...</th>\n",
       "      <th>V330</th>\n",
       "      <th>V331</th>\n",
       "      <th>V332</th>\n",
       "      <th>V333</th>\n",
       "      <th>V334</th>\n",
       "      <th>V335</th>\n",
       "      <th>V336</th>\n",
       "      <th>V337</th>\n",
       "      <th>V338</th>\n",
       "      <th>V339</th>\n",
       "    </tr>\n",
       "  </thead>\n",
       "  <tbody>\n",
       "    <tr>\n",
       "      <th>count</th>\n",
       "      <td>5.000100e+04</td>\n",
       "      <td>50001.000000</td>\n",
       "      <td>5.000100e+04</td>\n",
       "      <td>50001.000000</td>\n",
       "      <td>50001.000000</td>\n",
       "      <td>49304.000000</td>\n",
       "      <td>49998.000000</td>\n",
       "      <td>49766.000000</td>\n",
       "      <td>47410.000000</td>\n",
       "      <td>47410.000000</td>\n",
       "      <td>...</td>\n",
       "      <td>12268.000000</td>\n",
       "      <td>12268.000000</td>\n",
       "      <td>12268.000000</td>\n",
       "      <td>12268.000000</td>\n",
       "      <td>12268.000000</td>\n",
       "      <td>12268.000000</td>\n",
       "      <td>12268.000000</td>\n",
       "      <td>12268.000000</td>\n",
       "      <td>12268.000000</td>\n",
       "      <td>12268.000000</td>\n",
       "    </tr>\n",
       "    <tr>\n",
       "      <th>mean</th>\n",
       "      <td>3.012000e+06</td>\n",
       "      <td>0.027139</td>\n",
       "      <td>6.378101e+05</td>\n",
       "      <td>128.129726</td>\n",
       "      <td>9912.598368</td>\n",
       "      <td>366.635547</td>\n",
       "      <td>152.803612</td>\n",
       "      <td>200.704276</td>\n",
       "      <td>291.813162</td>\n",
       "      <td>85.590593</td>\n",
       "      <td>...</td>\n",
       "      <td>0.110450</td>\n",
       "      <td>38.942391</td>\n",
       "      <td>63.051814</td>\n",
       "      <td>45.816241</td>\n",
       "      <td>4.252527</td>\n",
       "      <td>14.926426</td>\n",
       "      <td>7.991718</td>\n",
       "      <td>15.742603</td>\n",
       "      <td>21.362671</td>\n",
       "      <td>16.464481</td>\n",
       "    </tr>\n",
       "    <tr>\n",
       "      <th>std</th>\n",
       "      <td>1.443419e+04</td>\n",
       "      <td>0.162491</td>\n",
       "      <td>3.229461e+05</td>\n",
       "      <td>213.078011</td>\n",
       "      <td>4904.597980</td>\n",
       "      <td>159.057800</td>\n",
       "      <td>10.482210</td>\n",
       "      <td>40.299048</td>\n",
       "      <td>104.991697</td>\n",
       "      <td>6.687334</td>\n",
       "      <td>...</td>\n",
       "      <td>0.469788</td>\n",
       "      <td>190.465893</td>\n",
       "      <td>446.405097</td>\n",
       "      <td>210.319262</td>\n",
       "      <td>46.694625</td>\n",
       "      <td>105.561868</td>\n",
       "      <td>60.584452</td>\n",
       "      <td>91.083819</td>\n",
       "      <td>131.071046</td>\n",
       "      <td>92.726771</td>\n",
       "    </tr>\n",
       "    <tr>\n",
       "      <th>min</th>\n",
       "      <td>2.987000e+06</td>\n",
       "      <td>0.000000</td>\n",
       "      <td>8.640000e+04</td>\n",
       "      <td>0.292000</td>\n",
       "      <td>1001.000000</td>\n",
       "      <td>100.000000</td>\n",
       "      <td>100.000000</td>\n",
       "      <td>100.000000</td>\n",
       "      <td>100.000000</td>\n",
       "      <td>13.000000</td>\n",
       "      <td>...</td>\n",
       "      <td>0.000000</td>\n",
       "      <td>0.000000</td>\n",
       "      <td>0.000000</td>\n",
       "      <td>0.000000</td>\n",
       "      <td>0.000000</td>\n",
       "      <td>0.000000</td>\n",
       "      <td>0.000000</td>\n",
       "      <td>0.000000</td>\n",
       "      <td>0.000000</td>\n",
       "      <td>0.000000</td>\n",
       "    </tr>\n",
       "    <tr>\n",
       "      <th>25%</th>\n",
       "      <td>2.999500e+06</td>\n",
       "      <td>0.000000</td>\n",
       "      <td>3.523050e+05</td>\n",
       "      <td>42.000000</td>\n",
       "      <td>6019.000000</td>\n",
       "      <td>208.000000</td>\n",
       "      <td>150.000000</td>\n",
       "      <td>166.000000</td>\n",
       "      <td>204.000000</td>\n",
       "      <td>87.000000</td>\n",
       "      <td>...</td>\n",
       "      <td>0.000000</td>\n",
       "      <td>0.000000</td>\n",
       "      <td>0.000000</td>\n",
       "      <td>0.000000</td>\n",
       "      <td>0.000000</td>\n",
       "      <td>0.000000</td>\n",
       "      <td>0.000000</td>\n",
       "      <td>0.000000</td>\n",
       "      <td>0.000000</td>\n",
       "      <td>0.000000</td>\n",
       "    </tr>\n",
       "    <tr>\n",
       "      <th>50%</th>\n",
       "      <td>3.012000e+06</td>\n",
       "      <td>0.000000</td>\n",
       "      <td>6.537500e+05</td>\n",
       "      <td>68.500000</td>\n",
       "      <td>9705.000000</td>\n",
       "      <td>369.000000</td>\n",
       "      <td>150.000000</td>\n",
       "      <td>226.000000</td>\n",
       "      <td>299.000000</td>\n",
       "      <td>87.000000</td>\n",
       "      <td>...</td>\n",
       "      <td>0.000000</td>\n",
       "      <td>0.000000</td>\n",
       "      <td>0.000000</td>\n",
       "      <td>0.000000</td>\n",
       "      <td>0.000000</td>\n",
       "      <td>0.000000</td>\n",
       "      <td>0.000000</td>\n",
       "      <td>0.000000</td>\n",
       "      <td>0.000000</td>\n",
       "      <td>0.000000</td>\n",
       "    </tr>\n",
       "    <tr>\n",
       "      <th>75%</th>\n",
       "      <td>3.024500e+06</td>\n",
       "      <td>0.000000</td>\n",
       "      <td>9.321340e+05</td>\n",
       "      <td>120.000000</td>\n",
       "      <td>14265.000000</td>\n",
       "      <td>514.000000</td>\n",
       "      <td>150.000000</td>\n",
       "      <td>226.000000</td>\n",
       "      <td>330.000000</td>\n",
       "      <td>87.000000</td>\n",
       "      <td>...</td>\n",
       "      <td>0.000000</td>\n",
       "      <td>0.000000</td>\n",
       "      <td>0.000000</td>\n",
       "      <td>0.000000</td>\n",
       "      <td>0.000000</td>\n",
       "      <td>0.000000</td>\n",
       "      <td>0.000000</td>\n",
       "      <td>0.000000</td>\n",
       "      <td>0.000000</td>\n",
       "      <td>0.000000</td>\n",
       "    </tr>\n",
       "    <tr>\n",
       "      <th>max</th>\n",
       "      <td>3.037000e+06</td>\n",
       "      <td>1.000000</td>\n",
       "      <td>1.189349e+06</td>\n",
       "      <td>4829.950000</td>\n",
       "      <td>18393.000000</td>\n",
       "      <td>600.000000</td>\n",
       "      <td>229.000000</td>\n",
       "      <td>237.000000</td>\n",
       "      <td>540.000000</td>\n",
       "      <td>102.000000</td>\n",
       "      <td>...</td>\n",
       "      <td>7.000000</td>\n",
       "      <td>6300.000000</td>\n",
       "      <td>32250.000000</td>\n",
       "      <td>6300.000000</td>\n",
       "      <td>1000.000000</td>\n",
       "      <td>2700.000000</td>\n",
       "      <td>1300.000000</td>\n",
       "      <td>1700.000000</td>\n",
       "      <td>3000.000000</td>\n",
       "      <td>1700.000000</td>\n",
       "    </tr>\n",
       "  </tbody>\n",
       "</table>\n",
       "<p>8 rows × 380 columns</p>\n",
       "</div>"
      ],
      "text/plain": [
       "       TransactionID       isFraud  TransactionDT  TransactionAmt  \\\n",
       "count   5.000100e+04  50001.000000   5.000100e+04    50001.000000   \n",
       "mean    3.012000e+06      0.027139   6.378101e+05      128.129726   \n",
       "std     1.443419e+04      0.162491   3.229461e+05      213.078011   \n",
       "min     2.987000e+06      0.000000   8.640000e+04        0.292000   \n",
       "25%     2.999500e+06      0.000000   3.523050e+05       42.000000   \n",
       "50%     3.012000e+06      0.000000   6.537500e+05       68.500000   \n",
       "75%     3.024500e+06      0.000000   9.321340e+05      120.000000   \n",
       "max     3.037000e+06      1.000000   1.189349e+06     4829.950000   \n",
       "\n",
       "              card1         card2         card3         card5         addr1  \\\n",
       "count  50001.000000  49304.000000  49998.000000  49766.000000  47410.000000   \n",
       "mean    9912.598368    366.635547    152.803612    200.704276    291.813162   \n",
       "std     4904.597980    159.057800     10.482210     40.299048    104.991697   \n",
       "min     1001.000000    100.000000    100.000000    100.000000    100.000000   \n",
       "25%     6019.000000    208.000000    150.000000    166.000000    204.000000   \n",
       "50%     9705.000000    369.000000    150.000000    226.000000    299.000000   \n",
       "75%    14265.000000    514.000000    150.000000    226.000000    330.000000   \n",
       "max    18393.000000    600.000000    229.000000    237.000000    540.000000   \n",
       "\n",
       "              addr2  ...          V330          V331          V332  \\\n",
       "count  47410.000000  ...  12268.000000  12268.000000  12268.000000   \n",
       "mean      85.590593  ...      0.110450     38.942391     63.051814   \n",
       "std        6.687334  ...      0.469788    190.465893    446.405097   \n",
       "min       13.000000  ...      0.000000      0.000000      0.000000   \n",
       "25%       87.000000  ...      0.000000      0.000000      0.000000   \n",
       "50%       87.000000  ...      0.000000      0.000000      0.000000   \n",
       "75%       87.000000  ...      0.000000      0.000000      0.000000   \n",
       "max      102.000000  ...      7.000000   6300.000000  32250.000000   \n",
       "\n",
       "               V333          V334          V335          V336          V337  \\\n",
       "count  12268.000000  12268.000000  12268.000000  12268.000000  12268.000000   \n",
       "mean      45.816241      4.252527     14.926426      7.991718     15.742603   \n",
       "std      210.319262     46.694625    105.561868     60.584452     91.083819   \n",
       "min        0.000000      0.000000      0.000000      0.000000      0.000000   \n",
       "25%        0.000000      0.000000      0.000000      0.000000      0.000000   \n",
       "50%        0.000000      0.000000      0.000000      0.000000      0.000000   \n",
       "75%        0.000000      0.000000      0.000000      0.000000      0.000000   \n",
       "max     6300.000000   1000.000000   2700.000000   1300.000000   1700.000000   \n",
       "\n",
       "               V338          V339  \n",
       "count  12268.000000  12268.000000  \n",
       "mean      21.362671     16.464481  \n",
       "std      131.071046     92.726771  \n",
       "min        0.000000      0.000000  \n",
       "25%        0.000000      0.000000  \n",
       "50%        0.000000      0.000000  \n",
       "75%        0.000000      0.000000  \n",
       "max     3000.000000   1700.000000  \n",
       "\n",
       "[8 rows x 380 columns]"
      ]
     },
     "execution_count": 3,
     "metadata": {},
     "output_type": "execute_result"
    }
   ],
   "source": [
    "train.describe()"
   ]
  },
  {
   "cell_type": "code",
   "execution_count": 4,
   "metadata": {},
   "outputs": [
    {
     "name": "stdout",
     "output_type": "stream",
     "text": [
      "<class 'pandas.core.frame.DataFrame'>\n",
      "RangeIndex: 50001 entries, 0 to 50000\n",
      "Columns: 394 entries, TransactionID to V339\n",
      "dtypes: float64(376), int64(4), object(14)\n",
      "memory usage: 150.3+ MB\n"
     ]
    }
   ],
   "source": [
    "train.info()"
   ]
  },
  {
   "cell_type": "code",
   "execution_count": 12,
   "metadata": {},
   "outputs": [
    {
     "data": {
      "text/html": [
       "<div>\n",
       "<style scoped>\n",
       "    .dataframe tbody tr th:only-of-type {\n",
       "        vertical-align: middle;\n",
       "    }\n",
       "\n",
       "    .dataframe tbody tr th {\n",
       "        vertical-align: top;\n",
       "    }\n",
       "\n",
       "    .dataframe thead th {\n",
       "        text-align: right;\n",
       "    }\n",
       "</style>\n",
       "<table border=\"1\" class=\"dataframe\">\n",
       "  <thead>\n",
       "    <tr style=\"text-align: right;\">\n",
       "      <th></th>\n",
       "      <th>TransactionID</th>\n",
       "      <th>isFraud</th>\n",
       "      <th>TransactionDT</th>\n",
       "      <th>TransactionAmt</th>\n",
       "      <th>ProductCD</th>\n",
       "      <th>card1</th>\n",
       "      <th>card2</th>\n",
       "      <th>card3</th>\n",
       "      <th>card4</th>\n",
       "      <th>card5</th>\n",
       "      <th>...</th>\n",
       "      <th>V330</th>\n",
       "      <th>V331</th>\n",
       "      <th>V332</th>\n",
       "      <th>V333</th>\n",
       "      <th>V334</th>\n",
       "      <th>V335</th>\n",
       "      <th>V336</th>\n",
       "      <th>V337</th>\n",
       "      <th>V338</th>\n",
       "      <th>V339</th>\n",
       "    </tr>\n",
       "  </thead>\n",
       "  <tbody>\n",
       "    <tr>\n",
       "      <th>0</th>\n",
       "      <td>2987000</td>\n",
       "      <td>0</td>\n",
       "      <td>86400</td>\n",
       "      <td>68.5</td>\n",
       "      <td>W</td>\n",
       "      <td>13926</td>\n",
       "      <td>NaN</td>\n",
       "      <td>150.0</td>\n",
       "      <td>discover</td>\n",
       "      <td>142.0</td>\n",
       "      <td>...</td>\n",
       "      <td>NaN</td>\n",
       "      <td>NaN</td>\n",
       "      <td>NaN</td>\n",
       "      <td>NaN</td>\n",
       "      <td>NaN</td>\n",
       "      <td>NaN</td>\n",
       "      <td>NaN</td>\n",
       "      <td>NaN</td>\n",
       "      <td>NaN</td>\n",
       "      <td>NaN</td>\n",
       "    </tr>\n",
       "    <tr>\n",
       "      <th>1</th>\n",
       "      <td>2987001</td>\n",
       "      <td>0</td>\n",
       "      <td>86401</td>\n",
       "      <td>29.0</td>\n",
       "      <td>W</td>\n",
       "      <td>2755</td>\n",
       "      <td>404.0</td>\n",
       "      <td>150.0</td>\n",
       "      <td>mastercard</td>\n",
       "      <td>102.0</td>\n",
       "      <td>...</td>\n",
       "      <td>NaN</td>\n",
       "      <td>NaN</td>\n",
       "      <td>NaN</td>\n",
       "      <td>NaN</td>\n",
       "      <td>NaN</td>\n",
       "      <td>NaN</td>\n",
       "      <td>NaN</td>\n",
       "      <td>NaN</td>\n",
       "      <td>NaN</td>\n",
       "      <td>NaN</td>\n",
       "    </tr>\n",
       "    <tr>\n",
       "      <th>2</th>\n",
       "      <td>2987002</td>\n",
       "      <td>0</td>\n",
       "      <td>86469</td>\n",
       "      <td>59.0</td>\n",
       "      <td>W</td>\n",
       "      <td>4663</td>\n",
       "      <td>490.0</td>\n",
       "      <td>150.0</td>\n",
       "      <td>visa</td>\n",
       "      <td>166.0</td>\n",
       "      <td>...</td>\n",
       "      <td>NaN</td>\n",
       "      <td>NaN</td>\n",
       "      <td>NaN</td>\n",
       "      <td>NaN</td>\n",
       "      <td>NaN</td>\n",
       "      <td>NaN</td>\n",
       "      <td>NaN</td>\n",
       "      <td>NaN</td>\n",
       "      <td>NaN</td>\n",
       "      <td>NaN</td>\n",
       "    </tr>\n",
       "    <tr>\n",
       "      <th>3</th>\n",
       "      <td>2987003</td>\n",
       "      <td>0</td>\n",
       "      <td>86499</td>\n",
       "      <td>50.0</td>\n",
       "      <td>W</td>\n",
       "      <td>18132</td>\n",
       "      <td>567.0</td>\n",
       "      <td>150.0</td>\n",
       "      <td>mastercard</td>\n",
       "      <td>117.0</td>\n",
       "      <td>...</td>\n",
       "      <td>NaN</td>\n",
       "      <td>NaN</td>\n",
       "      <td>NaN</td>\n",
       "      <td>NaN</td>\n",
       "      <td>NaN</td>\n",
       "      <td>NaN</td>\n",
       "      <td>NaN</td>\n",
       "      <td>NaN</td>\n",
       "      <td>NaN</td>\n",
       "      <td>NaN</td>\n",
       "    </tr>\n",
       "    <tr>\n",
       "      <th>4</th>\n",
       "      <td>2987004</td>\n",
       "      <td>0</td>\n",
       "      <td>86506</td>\n",
       "      <td>50.0</td>\n",
       "      <td>H</td>\n",
       "      <td>4497</td>\n",
       "      <td>514.0</td>\n",
       "      <td>150.0</td>\n",
       "      <td>mastercard</td>\n",
       "      <td>102.0</td>\n",
       "      <td>...</td>\n",
       "      <td>0.0</td>\n",
       "      <td>0.0</td>\n",
       "      <td>0.0</td>\n",
       "      <td>0.0</td>\n",
       "      <td>0.0</td>\n",
       "      <td>0.0</td>\n",
       "      <td>0.0</td>\n",
       "      <td>0.0</td>\n",
       "      <td>0.0</td>\n",
       "      <td>0.0</td>\n",
       "    </tr>\n",
       "  </tbody>\n",
       "</table>\n",
       "<p>5 rows × 394 columns</p>\n",
       "</div>"
      ],
      "text/plain": [
       "   TransactionID  isFraud  TransactionDT  TransactionAmt ProductCD  card1  \\\n",
       "0        2987000        0          86400            68.5         W  13926   \n",
       "1        2987001        0          86401            29.0         W   2755   \n",
       "2        2987002        0          86469            59.0         W   4663   \n",
       "3        2987003        0          86499            50.0         W  18132   \n",
       "4        2987004        0          86506            50.0         H   4497   \n",
       "\n",
       "   card2  card3       card4  card5  ... V330  V331  V332  V333  V334 V335  \\\n",
       "0    NaN  150.0    discover  142.0  ...  NaN   NaN   NaN   NaN   NaN  NaN   \n",
       "1  404.0  150.0  mastercard  102.0  ...  NaN   NaN   NaN   NaN   NaN  NaN   \n",
       "2  490.0  150.0        visa  166.0  ...  NaN   NaN   NaN   NaN   NaN  NaN   \n",
       "3  567.0  150.0  mastercard  117.0  ...  NaN   NaN   NaN   NaN   NaN  NaN   \n",
       "4  514.0  150.0  mastercard  102.0  ...  0.0   0.0   0.0   0.0   0.0  0.0   \n",
       "\n",
       "  V336  V337  V338  V339  \n",
       "0  NaN   NaN   NaN   NaN  \n",
       "1  NaN   NaN   NaN   NaN  \n",
       "2  NaN   NaN   NaN   NaN  \n",
       "3  NaN   NaN   NaN   NaN  \n",
       "4  0.0   0.0   0.0   0.0  \n",
       "\n",
       "[5 rows x 394 columns]"
      ]
     },
     "execution_count": 12,
     "metadata": {},
     "output_type": "execute_result"
    }
   ],
   "source": [
    "train.head()"
   ]
  },
  {
   "cell_type": "code",
   "execution_count": 9,
   "metadata": {},
   "outputs": [
    {
     "data": {
      "text/html": [
       "<div>\n",
       "<style scoped>\n",
       "    .dataframe tbody tr th:only-of-type {\n",
       "        vertical-align: middle;\n",
       "    }\n",
       "\n",
       "    .dataframe tbody tr th {\n",
       "        vertical-align: top;\n",
       "    }\n",
       "\n",
       "    .dataframe thead th {\n",
       "        text-align: right;\n",
       "    }\n",
       "</style>\n",
       "<table border=\"1\" class=\"dataframe\">\n",
       "  <thead>\n",
       "    <tr style=\"text-align: right;\">\n",
       "      <th></th>\n",
       "      <th>TransactionID</th>\n",
       "      <th>isFraud</th>\n",
       "      <th>TransactionDT</th>\n",
       "      <th>TransactionAmt</th>\n",
       "      <th>card1</th>\n",
       "      <th>card2</th>\n",
       "      <th>card3</th>\n",
       "      <th>card5</th>\n",
       "      <th>addr1</th>\n",
       "      <th>addr2</th>\n",
       "      <th>...</th>\n",
       "      <th>V330</th>\n",
       "      <th>V331</th>\n",
       "      <th>V332</th>\n",
       "      <th>V333</th>\n",
       "      <th>V334</th>\n",
       "      <th>V335</th>\n",
       "      <th>V336</th>\n",
       "      <th>V337</th>\n",
       "      <th>V338</th>\n",
       "      <th>V339</th>\n",
       "    </tr>\n",
       "  </thead>\n",
       "  <tbody>\n",
       "    <tr>\n",
       "      <th>count</th>\n",
       "      <td>7.500000e+04</td>\n",
       "      <td>75000.000000</td>\n",
       "      <td>7.500000e+04</td>\n",
       "      <td>75000.000000</td>\n",
       "      <td>75000.000000</td>\n",
       "      <td>74005.000000</td>\n",
       "      <td>75000.000000</td>\n",
       "      <td>74589.000000</td>\n",
       "      <td>64490.000000</td>\n",
       "      <td>64490.000000</td>\n",
       "      <td>...</td>\n",
       "      <td>24387.000000</td>\n",
       "      <td>24387.000000</td>\n",
       "      <td>24387.000000</td>\n",
       "      <td>24387.000000</td>\n",
       "      <td>24387.000000</td>\n",
       "      <td>24387.000000</td>\n",
       "      <td>24387.000000</td>\n",
       "      <td>24387.000000</td>\n",
       "      <td>24387.000000</td>\n",
       "      <td>24387.000000</td>\n",
       "    </tr>\n",
       "    <tr>\n",
       "      <th>mean</th>\n",
       "      <td>3.099500e+06</td>\n",
       "      <td>0.025973</td>\n",
       "      <td>2.279529e+06</td>\n",
       "      <td>128.028591</td>\n",
       "      <td>9831.878667</td>\n",
       "      <td>371.307695</td>\n",
       "      <td>154.075347</td>\n",
       "      <td>199.892169</td>\n",
       "      <td>291.440564</td>\n",
       "      <td>86.974725</td>\n",
       "      <td>...</td>\n",
       "      <td>0.159060</td>\n",
       "      <td>105.575307</td>\n",
       "      <td>131.765079</td>\n",
       "      <td>119.110755</td>\n",
       "      <td>11.564440</td>\n",
       "      <td>21.261696</td>\n",
       "      <td>16.245663</td>\n",
       "      <td>36.206626</td>\n",
       "      <td>42.026613</td>\n",
       "      <td>38.234797</td>\n",
       "    </tr>\n",
       "    <tr>\n",
       "      <th>std</th>\n",
       "      <td>2.165078e+04</td>\n",
       "      <td>0.159057</td>\n",
       "      <td>4.140176e+05</td>\n",
       "      <td>193.315818</td>\n",
       "      <td>4908.219772</td>\n",
       "      <td>159.001973</td>\n",
       "      <td>12.295349</td>\n",
       "      <td>40.927724</td>\n",
       "      <td>100.732324</td>\n",
       "      <td>1.704298</td>\n",
       "      <td>...</td>\n",
       "      <td>0.764107</td>\n",
       "      <td>730.361658</td>\n",
       "      <td>854.615865</td>\n",
       "      <td>768.778641</td>\n",
       "      <td>102.634158</td>\n",
       "      <td>134.484367</td>\n",
       "      <td>119.260027</td>\n",
       "      <td>339.409687</td>\n",
       "      <td>378.479522</td>\n",
       "      <td>345.706813</td>\n",
       "    </tr>\n",
       "    <tr>\n",
       "      <th>min</th>\n",
       "      <td>3.062000e+06</td>\n",
       "      <td>0.000000</td>\n",
       "      <td>1.643492e+06</td>\n",
       "      <td>1.000000</td>\n",
       "      <td>1006.000000</td>\n",
       "      <td>100.000000</td>\n",
       "      <td>100.000000</td>\n",
       "      <td>100.000000</td>\n",
       "      <td>110.000000</td>\n",
       "      <td>10.000000</td>\n",
       "      <td>...</td>\n",
       "      <td>0.000000</td>\n",
       "      <td>0.000000</td>\n",
       "      <td>0.000000</td>\n",
       "      <td>0.000000</td>\n",
       "      <td>0.000000</td>\n",
       "      <td>0.000000</td>\n",
       "      <td>0.000000</td>\n",
       "      <td>0.000000</td>\n",
       "      <td>0.000000</td>\n",
       "      <td>0.000000</td>\n",
       "    </tr>\n",
       "    <tr>\n",
       "      <th>25%</th>\n",
       "      <td>3.080750e+06</td>\n",
       "      <td>0.000000</td>\n",
       "      <td>1.950398e+06</td>\n",
       "      <td>45.000000</td>\n",
       "      <td>6019.000000</td>\n",
       "      <td>220.000000</td>\n",
       "      <td>150.000000</td>\n",
       "      <td>166.000000</td>\n",
       "      <td>204.000000</td>\n",
       "      <td>87.000000</td>\n",
       "      <td>...</td>\n",
       "      <td>0.000000</td>\n",
       "      <td>0.000000</td>\n",
       "      <td>0.000000</td>\n",
       "      <td>0.000000</td>\n",
       "      <td>0.000000</td>\n",
       "      <td>0.000000</td>\n",
       "      <td>0.000000</td>\n",
       "      <td>0.000000</td>\n",
       "      <td>0.000000</td>\n",
       "      <td>0.000000</td>\n",
       "    </tr>\n",
       "    <tr>\n",
       "      <th>50%</th>\n",
       "      <td>3.099500e+06</td>\n",
       "      <td>0.000000</td>\n",
       "      <td>2.187586e+06</td>\n",
       "      <td>75.000000</td>\n",
       "      <td>9633.000000</td>\n",
       "      <td>390.000000</td>\n",
       "      <td>150.000000</td>\n",
       "      <td>226.000000</td>\n",
       "      <td>299.000000</td>\n",
       "      <td>87.000000</td>\n",
       "      <td>...</td>\n",
       "      <td>0.000000</td>\n",
       "      <td>0.000000</td>\n",
       "      <td>0.000000</td>\n",
       "      <td>0.000000</td>\n",
       "      <td>0.000000</td>\n",
       "      <td>0.000000</td>\n",
       "      <td>0.000000</td>\n",
       "      <td>0.000000</td>\n",
       "      <td>0.000000</td>\n",
       "      <td>0.000000</td>\n",
       "    </tr>\n",
       "    <tr>\n",
       "      <th>75%</th>\n",
       "      <td>3.118249e+06</td>\n",
       "      <td>0.000000</td>\n",
       "      <td>2.595982e+06</td>\n",
       "      <td>131.000000</td>\n",
       "      <td>14223.000000</td>\n",
       "      <td>514.000000</td>\n",
       "      <td>150.000000</td>\n",
       "      <td>226.000000</td>\n",
       "      <td>330.000000</td>\n",
       "      <td>87.000000</td>\n",
       "      <td>...</td>\n",
       "      <td>0.000000</td>\n",
       "      <td>0.000000</td>\n",
       "      <td>0.000000</td>\n",
       "      <td>0.000000</td>\n",
       "      <td>0.000000</td>\n",
       "      <td>0.000000</td>\n",
       "      <td>0.000000</td>\n",
       "      <td>0.000000</td>\n",
       "      <td>0.000000</td>\n",
       "      <td>0.000000</td>\n",
       "    </tr>\n",
       "    <tr>\n",
       "      <th>max</th>\n",
       "      <td>3.136999e+06</td>\n",
       "      <td>1.000000</td>\n",
       "      <td>3.093408e+06</td>\n",
       "      <td>5094.950000</td>\n",
       "      <td>18396.000000</td>\n",
       "      <td>600.000000</td>\n",
       "      <td>231.000000</td>\n",
       "      <td>237.000000</td>\n",
       "      <td>536.000000</td>\n",
       "      <td>102.000000</td>\n",
       "      <td>...</td>\n",
       "      <td>15.000000</td>\n",
       "      <td>20750.000000</td>\n",
       "      <td>22500.000000</td>\n",
       "      <td>21250.000000</td>\n",
       "      <td>3100.000000</td>\n",
       "      <td>3350.000000</td>\n",
       "      <td>3250.000000</td>\n",
       "      <td>8250.000000</td>\n",
       "      <td>8250.000000</td>\n",
       "      <td>8250.000000</td>\n",
       "    </tr>\n",
       "  </tbody>\n",
       "</table>\n",
       "<p>8 rows × 380 columns</p>\n",
       "</div>"
      ],
      "text/plain": [
       "       TransactionID       isFraud  TransactionDT  TransactionAmt  \\\n",
       "count   7.500000e+04  75000.000000   7.500000e+04    75000.000000   \n",
       "mean    3.099500e+06      0.025973   2.279529e+06      128.028591   \n",
       "std     2.165078e+04      0.159057   4.140176e+05      193.315818   \n",
       "min     3.062000e+06      0.000000   1.643492e+06        1.000000   \n",
       "25%     3.080750e+06      0.000000   1.950398e+06       45.000000   \n",
       "50%     3.099500e+06      0.000000   2.187586e+06       75.000000   \n",
       "75%     3.118249e+06      0.000000   2.595982e+06      131.000000   \n",
       "max     3.136999e+06      1.000000   3.093408e+06     5094.950000   \n",
       "\n",
       "              card1         card2         card3         card5         addr1  \\\n",
       "count  75000.000000  74005.000000  75000.000000  74589.000000  64490.000000   \n",
       "mean    9831.878667    371.307695    154.075347    199.892169    291.440564   \n",
       "std     4908.219772    159.001973     12.295349     40.927724    100.732324   \n",
       "min     1006.000000    100.000000    100.000000    100.000000    110.000000   \n",
       "25%     6019.000000    220.000000    150.000000    166.000000    204.000000   \n",
       "50%     9633.000000    390.000000    150.000000    226.000000    299.000000   \n",
       "75%    14223.000000    514.000000    150.000000    226.000000    330.000000   \n",
       "max    18396.000000    600.000000    231.000000    237.000000    536.000000   \n",
       "\n",
       "              addr2  ...          V330          V331          V332  \\\n",
       "count  64490.000000  ...  24387.000000  24387.000000  24387.000000   \n",
       "mean      86.974725  ...      0.159060    105.575307    131.765079   \n",
       "std        1.704298  ...      0.764107    730.361658    854.615865   \n",
       "min       10.000000  ...      0.000000      0.000000      0.000000   \n",
       "25%       87.000000  ...      0.000000      0.000000      0.000000   \n",
       "50%       87.000000  ...      0.000000      0.000000      0.000000   \n",
       "75%       87.000000  ...      0.000000      0.000000      0.000000   \n",
       "max      102.000000  ...     15.000000  20750.000000  22500.000000   \n",
       "\n",
       "               V333          V334          V335          V336          V337  \\\n",
       "count  24387.000000  24387.000000  24387.000000  24387.000000  24387.000000   \n",
       "mean     119.110755     11.564440     21.261696     16.245663     36.206626   \n",
       "std      768.778641    102.634158    134.484367    119.260027    339.409687   \n",
       "min        0.000000      0.000000      0.000000      0.000000      0.000000   \n",
       "25%        0.000000      0.000000      0.000000      0.000000      0.000000   \n",
       "50%        0.000000      0.000000      0.000000      0.000000      0.000000   \n",
       "75%        0.000000      0.000000      0.000000      0.000000      0.000000   \n",
       "max    21250.000000   3100.000000   3350.000000   3250.000000   8250.000000   \n",
       "\n",
       "               V338          V339  \n",
       "count  24387.000000  24387.000000  \n",
       "mean      42.026613     38.234797  \n",
       "std      378.479522    345.706813  \n",
       "min        0.000000      0.000000  \n",
       "25%        0.000000      0.000000  \n",
       "50%        0.000000      0.000000  \n",
       "75%        0.000000      0.000000  \n",
       "max     8250.000000   8250.000000  \n",
       "\n",
       "[8 rows x 380 columns]"
      ]
     },
     "execution_count": 9,
     "metadata": {},
     "output_type": "execute_result"
    }
   ],
   "source": [
    "test.describe()"
   ]
  },
  {
   "cell_type": "code",
   "execution_count": 10,
   "metadata": {},
   "outputs": [
    {
     "data": {
      "text/plain": [
       "0    48644\n",
       "1     1357\n",
       "Name: isFraud, dtype: int64"
      ]
     },
     "execution_count": 10,
     "metadata": {},
     "output_type": "execute_result"
    }
   ],
   "source": [
    "train[\"isFraud\"].value_counts()"
   ]
  },
  {
   "cell_type": "code",
   "execution_count": 11,
   "metadata": {},
   "outputs": [
    {
     "data": {
      "text/plain": [
       "0    73052\n",
       "1     1948\n",
       "Name: isFraud, dtype: int64"
      ]
     },
     "execution_count": 11,
     "metadata": {},
     "output_type": "execute_result"
    }
   ],
   "source": [
    "test[\"isFraud\"].value_counts()"
   ]
  },
  {
   "cell_type": "markdown",
   "metadata": {},
   "source": [
    "### Задание 1: Построить график распределения времени совершения транзакции для обучающей / тестовой выборки, сделать выводы о том, как разбиты данные и какие виды валидации могут подойти для данной задачи."
   ]
  },
  {
   "cell_type": "code",
   "execution_count": 26,
   "metadata": {},
   "outputs": [
    {
     "data": {
      "image/png": "[encoded data removed]",
      "text/plain": [
       "<Figure size 432x288 with 1 Axes>"
      ]
     },
     "metadata": {
      "needs_background": "light"
     },
     "output_type": "display_data"
    }
   ],
   "source": [
    "plt.plot(train[\"TransactionID\"], train[\"TransactionDT\"])\n",
    "plt.plot(test[\"TransactionID\"], test[\"TransactionDT\"])\n",
    "plt.xlabel(\"TransactionID\")\n",
    "plt.ylabel(\"Время транзакции\")\n",
    "plt.show()"
   ]
  },
  {
   "cell_type": "markdown",
   "metadata": {},
   "source": [
    "Вывод: т.к.данные зависят от времени лучше вего подойдет TimeSeriesSplit валидация."
   ]
  },
  {
   "cell_type": "markdown",
   "metadata": {},
   "source": [
    "### Задание 2: построить scatter-plot зависимости суммы транзакции от времени совершения транзакции. Построить графики для обучающей выборки и для тестовой выборки, для обучающей выборки - построить как для целевой переменной = 0, так и для переменной = 1. Сделать выводы."
   ]
  },
  {
   "cell_type": "code",
   "execution_count": 25,
   "metadata": {},
   "outputs": [
    {
     "data": {
      "image/png": "[encoded data removed]",
      "text/plain": [
       "<Figure size 432x288 with 1 Axes>"
      ]
     },
     "metadata": {
      "needs_background": "light"
     },
     "output_type": "display_data"
    }
   ],
   "source": [
    "plt.scatter(test[\"TransactionAmt\"], test[\"TransactionDT\"],label=\"test\")\n",
    "plt.scatter(train[train[\"isFraud\"]==0][\"TransactionAmt\"], train[train[\"isFraud\"]==0][\"TransactionDT\"], label=\"train_isFraud_0\")\n",
    "plt.scatter(train[train[\"isFraud\"]==1][\"TransactionAmt\"], train[train[\"isFraud\"]==1][\"TransactionDT\"], label=\"train_isFraud_1\")\n",
    "plt.xlabel(\"Сумма транзакции\")\n",
    "plt.ylabel(\"Время транзакции\")\n",
    "plt.legend(loc=\"lower right\")\n",
    "plt.show()"
   ]
  },
  {
   "cell_type": "markdown",
   "metadata": {},
   "source": [
    "Вывод: мошеннические транзакции в основном на сумму менее 1000, все, что больше 1000 похоже на выбросы."
   ]
  },
  {
   "cell_type": "markdown",
   "metadata": {},
   "source": [
    "### Задание 3: построить распределение признака TransactionAmt в логарифмическом масштабе, сделать выводы о близости распредления к нормальному распределению. Построить распределение признака в логарифмическому масштабе для обучающей выборк и для тестовой выборки, сделать выводы."
   ]
  },
  {
   "cell_type": "code",
   "execution_count": 86,
   "metadata": {},
   "outputs": [
    {
     "data": {
      "text/plain": [
       "<AxesSubplot:title={'center':'Log Normal'}, xlabel='TransactionAmt'>"
      ]
     },
     "execution_count": 86,
     "metadata": {},
     "output_type": "execute_result"
    },
    {
     "data": {
      "image/png": "[encoded data removed]",
      "text/plain": [
       "<Figure size 1296x720 with 1 Axes>"
      ]
     },
     "metadata": {
      "needs_background": "light"
     },
     "output_type": "display_data"
    }
   ],
   "source": [
    "fig, axes = plt.subplots(figsize=(18, 10))\n",
    "axes.set_title(\"Log Normal\", fontsize=14)\n",
    "sns.distplot(train[\"TransactionAmt\"], kde=False, color=\"blue\", fit=st.lognorm, ax=axes)\n",
    "sns.distplot(test[\"TransactionAmt\"], kde=False, color=\"green\", fit=st.lognorm, ax=axes)"
   ]
  },
  {
   "cell_type": "markdown",
   "metadata": {},
   "source": [
    "Выводы: распределение признака TransactionAmt на трейне и на тесте не похоже на нормальное, но похоже между собой."
   ]
  },
  {
   "cell_type": "markdown",
   "metadata": {},
   "source": [
    "### Задание 4: построить распределение признака целевой переменной в зависимости от значений категориальных признаков ProductCD, card4, card6. Сделать выводы."
   ]
  },
  {
   "cell_type": "code",
   "execution_count": 32,
   "metadata": {},
   "outputs": [
    {
     "name": "stdout",
     "output_type": "stream",
     "text": [
      "Categorical Feature Count 14\n"
     ]
    },
    {
     "data": {
      "text/html": [
       "<div>\n",
       "<style scoped>\n",
       "    .dataframe tbody tr th:only-of-type {\n",
       "        vertical-align: middle;\n",
       "    }\n",
       "\n",
       "    .dataframe tbody tr th {\n",
       "        vertical-align: top;\n",
       "    }\n",
       "\n",
       "    .dataframe thead th {\n",
       "        text-align: right;\n",
       "    }\n",
       "</style>\n",
       "<table border=\"1\" class=\"dataframe\">\n",
       "  <thead>\n",
       "    <tr style=\"text-align: right;\">\n",
       "      <th></th>\n",
       "      <th>ProductCD</th>\n",
       "      <th>card4</th>\n",
       "      <th>card6</th>\n",
       "      <th>P_emaildomain</th>\n",
       "      <th>R_emaildomain</th>\n",
       "      <th>M1</th>\n",
       "      <th>M2</th>\n",
       "      <th>M3</th>\n",
       "      <th>M4</th>\n",
       "      <th>M5</th>\n",
       "      <th>M6</th>\n",
       "      <th>M7</th>\n",
       "      <th>M8</th>\n",
       "      <th>M9</th>\n",
       "    </tr>\n",
       "  </thead>\n",
       "  <tbody>\n",
       "    <tr>\n",
       "      <th>0</th>\n",
       "      <td>W</td>\n",
       "      <td>discover</td>\n",
       "      <td>credit</td>\n",
       "      <td>NaN</td>\n",
       "      <td>NaN</td>\n",
       "      <td>T</td>\n",
       "      <td>T</td>\n",
       "      <td>T</td>\n",
       "      <td>M2</td>\n",
       "      <td>F</td>\n",
       "      <td>T</td>\n",
       "      <td>NaN</td>\n",
       "      <td>NaN</td>\n",
       "      <td>NaN</td>\n",
       "    </tr>\n",
       "    <tr>\n",
       "      <th>1</th>\n",
       "      <td>W</td>\n",
       "      <td>mastercard</td>\n",
       "      <td>credit</td>\n",
       "      <td>gmail.com</td>\n",
       "      <td>NaN</td>\n",
       "      <td>NaN</td>\n",
       "      <td>NaN</td>\n",
       "      <td>NaN</td>\n",
       "      <td>M0</td>\n",
       "      <td>T</td>\n",
       "      <td>T</td>\n",
       "      <td>NaN</td>\n",
       "      <td>NaN</td>\n",
       "      <td>NaN</td>\n",
       "    </tr>\n",
       "  </tbody>\n",
       "</table>\n",
       "</div>"
      ],
      "text/plain": [
       "  ProductCD       card4   card6 P_emaildomain R_emaildomain   M1   M2   M3  \\\n",
       "0         W    discover  credit           NaN           NaN    T    T    T   \n",
       "1         W  mastercard  credit     gmail.com           NaN  NaN  NaN  NaN   \n",
       "\n",
       "   M4 M5 M6   M7   M8   M9  \n",
       "0  M2  F  T  NaN  NaN  NaN  \n",
       "1  M0  T  T  NaN  NaN  NaN  "
      ]
     },
     "execution_count": 32,
     "metadata": {},
     "output_type": "execute_result"
    }
   ],
   "source": [
    "categorical_features = train.select_dtypes(include=[np.object])\n",
    "print(f\"Categorical Feature Count {categorical_features.shape[1]}\")\n",
    "categorical_features.head(n=2)"
   ]
  },
  {
   "cell_type": "code",
   "execution_count": 61,
   "metadata": {},
   "outputs": [
    {
     "data": {
      "image/png": "[encoded data removed]",
      "text/plain": [
       "<Figure size 432x288 with 1 Axes>"
      ]
     },
     "metadata": {
      "needs_background": "light"
     },
     "output_type": "display_data"
    }
   ],
   "source": [
    "ProductCD_0 = (train[train[\"isFraud\"]==0][\"ProductCD\"].value_counts()/train[\"ProductCD\"].value_counts()).sort_values()\n",
    "ProductCD_0 = ProductCD_0.sort_values()\n",
    "ProductCD_0.plot(kind=\"barh\", title=\"Распределение обычных операций по ProductCD\")\n",
    "plt.show()"
   ]
  },
  {
   "cell_type": "code",
   "execution_count": 69,
   "metadata": {},
   "outputs": [
    {
     "data": {
      "image/png": "[encoded data removed]",
      "text/plain": [
       "<Figure size 432x288 with 1 Axes>"
      ]
     },
     "metadata": {
      "needs_background": "light"
     },
     "output_type": "display_data"
    }
   ],
   "source": [
    "ProductCD_0 = (train[train[\"isFraud\"]==0][\"ProductCD\"].value_counts()/train[\"ProductCD\"].value_counts()).sort_values()\n",
    "ProductCD_1 = train[train[\"isFraud\"]==1][\"ProductCD\"].value_counts()/train[\"ProductCD\"].value_counts()\n",
    "ProductCD_1 = ProductCD_1.sort_values()\n",
    "ProductCD_1.plot(kind=\"barh\", title=\"Распределение мошеннический операций по ProductCD\")\n",
    "plt.show()"
   ]
  },
  {
   "cell_type": "code",
   "execution_count": 70,
   "metadata": {},
   "outputs": [
    {
     "data": {
      "image/png": "[encoded data removed]",
      "text/plain": [
       "<Figure size 432x288 with 1 Axes>"
      ]
     },
     "metadata": {
      "needs_background": "light"
     },
     "output_type": "display_data"
    }
   ],
   "source": [
    "card4_0 = train[train[\"isFraud\"]==0][\"card4\"].value_counts()/train[\"card4\"].value_counts()\n",
    "card4_0 = card4_0.sort_values()\n",
    "card4_0.plot(kind=\"barh\", title=\"Распределение обычных операций по card4\")\n",
    "plt.show()"
   ]
  },
  {
   "cell_type": "code",
   "execution_count": 71,
   "metadata": {},
   "outputs": [
    {
     "data": {
      "image/png": "[encoded data removed]",
      "text/plain": [
       "<Figure size 432x288 with 1 Axes>"
      ]
     },
     "metadata": {
      "needs_background": "light"
     },
     "output_type": "display_data"
    }
   ],
   "source": [
    "card4_1 = train[train[\"isFraud\"]==1][\"card4\"].value_counts()/train[\"card4\"].value_counts()\n",
    "card4_1 = card4_1.sort_values()\n",
    "card4_1.plot(kind=\"barh\", title=\"Распределение мошеннических операций по card4\")\n",
    "plt.show()"
   ]
  },
  {
   "cell_type": "code",
   "execution_count": 72,
   "metadata": {},
   "outputs": [
    {
     "data": {
      "image/png": "[encoded data removed]",
      "text/plain": [
       "<Figure size 432x288 with 1 Axes>"
      ]
     },
     "metadata": {
      "needs_background": "light"
     },
     "output_type": "display_data"
    }
   ],
   "source": [
    "card6_0 = train[train[\"isFraud\"]==0][\"card6\"].value_counts()/train[\"card6\"].value_counts()\n",
    "card6_0 = card6_0.sort_values()\n",
    "card6_0.plot(kind=\"barh\", title=\"Распределение обычных операций по card6\")\n",
    "plt.show()"
   ]
  },
  {
   "cell_type": "code",
   "execution_count": 73,
   "metadata": {},
   "outputs": [
    {
     "data": {
      "image/png": "[encoded data removed]",
      "text/plain": [
       "<Figure size 432x288 with 1 Axes>"
      ]
     },
     "metadata": {
      "needs_background": "light"
     },
     "output_type": "display_data"
    }
   ],
   "source": [
    "card6_1 = train[train[\"isFraud\"]==1][\"card6\"].value_counts()/train[\"card6\"].value_counts()\n",
    "card6_1 = card6_1.sort_values()\n",
    "card6_1.plot(kind=\"barh\", title=\"Распределение мошеннических операций по card6\")\n",
    "plt.show()"
   ]
  },
  {
   "cell_type": "markdown",
   "metadata": {},
   "source": [
    "Выводы: большая доля мошеннических операций приходится на категорию C по картам типа discover, а первом месте кредитовые, а на втором месте дебетовые."
   ]
  },
  {
   "cell_type": "markdown",
   "metadata": {},
   "source": [
    "## Основное задание:\n",
    "Даны выборки для обучения и для тестирования. Задание заключается в том, чтобы попробовать разные способы валидации, проанализировать плюсы / минусы каждой и сделать выводы о том, какой способ валидации наиболее устойчивый в данной задаче. Метрика качества для оценки прогнозов - ROC-AUC, название целевой переменной - IsFraud. Рекомендуется использовать модели градиетного бустинга, реализация любая."
   ]
  },
  {
   "cell_type": "markdown",
   "metadata": {},
   "source": [
    "### Задание 1: сделать Hold-Out валидацию с разбиением, размер которого будет адеквтаным, по вашему мнению; разбиение проводить по id-транзакции (TransactionID), обучать модель градиетного бустинга любой реализации с подбором числа деревьев по early_stopping критерию до достижения сходимости. Оценить качество модели на тестовой выборке, оценить расхождение по сравнению с качеством на обучающей выборке и тестовой выборке."
   ]
  },
  {
   "cell_type": "code",
   "execution_count": 94,
   "metadata": {},
   "outputs": [],
   "source": [
    "x_train, x_test = train_test_split(\n",
    "    train.drop([\"isFraud\"], axis=1), train_size=0.75, shuffle=True, random_state=1,\n",
    ")\n",
    "y_train, y_test = train_test_split(\n",
    "    train[\"isFraud\"], train_size=0.75, shuffle=True, random_state=1,\n",
    ")"
   ]
  },
  {
   "cell_type": "code",
   "execution_count": 95,
   "metadata": {},
   "outputs": [
    {
     "name": "stdout",
     "output_type": "stream",
     "text": [
      "x_train.shape = 37500 rows, 379 cols\n",
      "x_test.shape = 12501 rows, 379 cols\n"
     ]
    }
   ],
   "source": [
    "numerical_features = x_train.select_dtypes(exclude=[\"object\"])\n",
    "numerical_features = numerical_features.columns.tolist()\n",
    "\n",
    "x_train = x_train[numerical_features]\n",
    "x_test = x_test[numerical_features]\n",
    "\n",
    "print(\"x_train.shape = {} rows, {} cols\".format(*x_train.shape))\n",
    "print(\"x_test.shape = {} rows, {} cols\".format(*x_test.shape))"
   ]
  },
  {
   "cell_type": "code",
   "execution_count": 103,
   "metadata": {},
   "outputs": [
    {
     "name": "stdout",
     "output_type": "stream",
     "text": [
      "[0]\tvalidation_0-auc:0.76281\tvalidation_1-auc:0.75206\n",
      "Multiple eval metrics have been passed: 'validation_1-auc' will be used for early stopping.\n",
      "\n",
      "Will train until validation_1-auc hasn't improved in 50 rounds.\n",
      "[1]\tvalidation_0-auc:0.81701\tvalidation_1-auc:0.79861\n",
      "[2]\tvalidation_0-auc:0.82739\tvalidation_1-auc:0.81206\n",
      "[3]\tvalidation_0-auc:0.83972\tvalidation_1-auc:0.82192\n",
      "[4]\tvalidation_0-auc:0.84605\tvalidation_1-auc:0.83012\n",
      "[5]\tvalidation_0-auc:0.85159\tvalidation_1-auc:0.83576\n",
      "[6]\tvalidation_0-auc:0.87360\tvalidation_1-auc:0.85674\n",
      "[7]\tvalidation_0-auc:0.88143\tvalidation_1-auc:0.86315\n",
      "[8]\tvalidation_0-auc:0.89755\tvalidation_1-auc:0.87355\n",
      "[9]\tvalidation_0-auc:0.90210\tvalidation_1-auc:0.87541\n",
      "[10]\tvalidation_0-auc:0.91192\tvalidation_1-auc:0.88724\n",
      "[11]\tvalidation_0-auc:0.91480\tvalidation_1-auc:0.88739\n",
      "[12]\tvalidation_0-auc:0.92478\tvalidation_1-auc:0.89276\n",
      "[13]\tvalidation_0-auc:0.92959\tvalidation_1-auc:0.89326\n",
      "[14]\tvalidation_0-auc:0.93845\tvalidation_1-auc:0.89972\n",
      "[15]\tvalidation_0-auc:0.94436\tvalidation_1-auc:0.90279\n",
      "[16]\tvalidation_0-auc:0.94611\tvalidation_1-auc:0.90322\n",
      "[17]\tvalidation_0-auc:0.95082\tvalidation_1-auc:0.90464\n",
      "[18]\tvalidation_0-auc:0.95457\tvalidation_1-auc:0.90364\n",
      "[19]\tvalidation_0-auc:0.95964\tvalidation_1-auc:0.90521\n",
      "[20]\tvalidation_0-auc:0.96313\tvalidation_1-auc:0.90821\n",
      "[21]\tvalidation_0-auc:0.96383\tvalidation_1-auc:0.91064\n",
      "[22]\tvalidation_0-auc:0.96588\tvalidation_1-auc:0.91032\n",
      "[23]\tvalidation_0-auc:0.96664\tvalidation_1-auc:0.91184\n",
      "[24]\tvalidation_0-auc:0.96730\tvalidation_1-auc:0.91071\n",
      "[25]\tvalidation_0-auc:0.96891\tvalidation_1-auc:0.91207\n",
      "[26]\tvalidation_0-auc:0.97063\tvalidation_1-auc:0.91328\n",
      "[27]\tvalidation_0-auc:0.97315\tvalidation_1-auc:0.91627\n",
      "[28]\tvalidation_0-auc:0.97392\tvalidation_1-auc:0.91692\n",
      "[29]\tvalidation_0-auc:0.97454\tvalidation_1-auc:0.91683\n",
      "[30]\tvalidation_0-auc:0.97565\tvalidation_1-auc:0.91779\n",
      "[31]\tvalidation_0-auc:0.97627\tvalidation_1-auc:0.91689\n",
      "[32]\tvalidation_0-auc:0.97687\tvalidation_1-auc:0.91763\n",
      "[33]\tvalidation_0-auc:0.97748\tvalidation_1-auc:0.91847\n",
      "[34]\tvalidation_0-auc:0.97848\tvalidation_1-auc:0.91781\n",
      "[35]\tvalidation_0-auc:0.97867\tvalidation_1-auc:0.91761\n",
      "[36]\tvalidation_0-auc:0.97969\tvalidation_1-auc:0.91732\n",
      "[37]\tvalidation_0-auc:0.98011\tvalidation_1-auc:0.91619\n",
      "[38]\tvalidation_0-auc:0.98069\tvalidation_1-auc:0.91648\n",
      "[39]\tvalidation_0-auc:0.98164\tvalidation_1-auc:0.91686\n",
      "[40]\tvalidation_0-auc:0.98244\tvalidation_1-auc:0.91677\n",
      "[41]\tvalidation_0-auc:0.98393\tvalidation_1-auc:0.91482\n",
      "[42]\tvalidation_0-auc:0.98424\tvalidation_1-auc:0.91547\n",
      "[43]\tvalidation_0-auc:0.98446\tvalidation_1-auc:0.91610\n",
      "[44]\tvalidation_0-auc:0.98506\tvalidation_1-auc:0.91687\n",
      "[45]\tvalidation_0-auc:0.98521\tvalidation_1-auc:0.91736\n",
      "[46]\tvalidation_0-auc:0.98579\tvalidation_1-auc:0.91796\n",
      "[47]\tvalidation_0-auc:0.98605\tvalidation_1-auc:0.91791\n",
      "[48]\tvalidation_0-auc:0.98621\tvalidation_1-auc:0.91793\n",
      "[49]\tvalidation_0-auc:0.98647\tvalidation_1-auc:0.91848\n",
      "[50]\tvalidation_0-auc:0.98676\tvalidation_1-auc:0.91818\n",
      "[51]\tvalidation_0-auc:0.98777\tvalidation_1-auc:0.91926\n",
      "[52]\tvalidation_0-auc:0.98815\tvalidation_1-auc:0.91971\n",
      "[53]\tvalidation_0-auc:0.98852\tvalidation_1-auc:0.92116\n",
      "[54]\tvalidation_0-auc:0.98861\tvalidation_1-auc:0.92098\n",
      "[55]\tvalidation_0-auc:0.98920\tvalidation_1-auc:0.92094\n",
      "[56]\tvalidation_0-auc:0.98952\tvalidation_1-auc:0.92220\n",
      "[57]\tvalidation_0-auc:0.98994\tvalidation_1-auc:0.92138\n",
      "[58]\tvalidation_0-auc:0.99017\tvalidation_1-auc:0.92139\n",
      "[59]\tvalidation_0-auc:0.99056\tvalidation_1-auc:0.92175\n",
      "[60]\tvalidation_0-auc:0.99076\tvalidation_1-auc:0.92232\n",
      "[61]\tvalidation_0-auc:0.99093\tvalidation_1-auc:0.92222\n",
      "[62]\tvalidation_0-auc:0.99115\tvalidation_1-auc:0.92144\n",
      "[63]\tvalidation_0-auc:0.99139\tvalidation_1-auc:0.92176\n",
      "[64]\tvalidation_0-auc:0.99159\tvalidation_1-auc:0.92167\n",
      "[65]\tvalidation_0-auc:0.99162\tvalidation_1-auc:0.92173\n",
      "[66]\tvalidation_0-auc:0.99169\tvalidation_1-auc:0.92197\n",
      "[67]\tvalidation_0-auc:0.99201\tvalidation_1-auc:0.92209\n",
      "[68]\tvalidation_0-auc:0.99210\tvalidation_1-auc:0.92175\n",
      "[69]\tvalidation_0-auc:0.99223\tvalidation_1-auc:0.92186\n",
      "[70]\tvalidation_0-auc:0.99238\tvalidation_1-auc:0.92168\n",
      "[71]\tvalidation_0-auc:0.99253\tvalidation_1-auc:0.92179\n",
      "[72]\tvalidation_0-auc:0.99282\tvalidation_1-auc:0.92246\n",
      "[73]\tvalidation_0-auc:0.99309\tvalidation_1-auc:0.92244\n",
      "[74]\tvalidation_0-auc:0.99312\tvalidation_1-auc:0.92312\n",
      "[75]\tvalidation_0-auc:0.99323\tvalidation_1-auc:0.92266\n",
      "[76]\tvalidation_0-auc:0.99367\tvalidation_1-auc:0.92244\n",
      "[77]\tvalidation_0-auc:0.99403\tvalidation_1-auc:0.92219\n",
      "[78]\tvalidation_0-auc:0.99405\tvalidation_1-auc:0.92244\n",
      "[79]\tvalidation_0-auc:0.99409\tvalidation_1-auc:0.92202\n",
      "[80]\tvalidation_0-auc:0.99456\tvalidation_1-auc:0.92226\n",
      "[81]\tvalidation_0-auc:0.99486\tvalidation_1-auc:0.92335\n",
      "[82]\tvalidation_0-auc:0.99509\tvalidation_1-auc:0.92266\n",
      "[83]\tvalidation_0-auc:0.99546\tvalidation_1-auc:0.92298\n",
      "[84]\tvalidation_0-auc:0.99552\tvalidation_1-auc:0.92322\n",
      "[85]\tvalidation_0-auc:0.99568\tvalidation_1-auc:0.92368\n",
      "[86]\tvalidation_0-auc:0.99581\tvalidation_1-auc:0.92319\n",
      "[87]\tvalidation_0-auc:0.99598\tvalidation_1-auc:0.92356\n",
      "[88]\tvalidation_0-auc:0.99605\tvalidation_1-auc:0.92362\n",
      "[89]\tvalidation_0-auc:0.99605\tvalidation_1-auc:0.92399\n",
      "[90]\tvalidation_0-auc:0.99607\tvalidation_1-auc:0.92390\n",
      "[91]\tvalidation_0-auc:0.99618\tvalidation_1-auc:0.92404\n",
      "[92]\tvalidation_0-auc:0.99619\tvalidation_1-auc:0.92416\n",
      "[93]\tvalidation_0-auc:0.99624\tvalidation_1-auc:0.92451\n",
      "[94]\tvalidation_0-auc:0.99626\tvalidation_1-auc:0.92386\n",
      "[95]\tvalidation_0-auc:0.99629\tvalidation_1-auc:0.92398\n",
      "[96]\tvalidation_0-auc:0.99657\tvalidation_1-auc:0.92446\n",
      "[97]\tvalidation_0-auc:0.99665\tvalidation_1-auc:0.92481\n",
      "[98]\tvalidation_0-auc:0.99669\tvalidation_1-auc:0.92420\n",
      "[99]\tvalidation_0-auc:0.99672\tvalidation_1-auc:0.92440\n"
     ]
    },
    {
     "data": {
      "text/plain": [
       "XGBClassifier(base_score=0.5, booster='gbtree', colsample_bylevel=1,\n",
       "              colsample_bynode=1, colsample_bytree=1, gamma=0, gpu_id=-1,\n",
       "              importance_type='gain', interaction_constraints='',\n",
       "              learning_rate=0.300000012, max_delta_step=0, max_depth=6,\n",
       "              min_child_weight=1, missing=nan, monotone_constraints='()',\n",
       "              n_estimators=100, n_jobs=0, num_parallel_tree=1, random_state=1,\n",
       "              reg_alpha=0, reg_lambda=1, scale_pos_weight=1, subsample=1,\n",
       "              tree_method='exact', validate_parameters=1, verbosity=None)"
      ]
     },
     "execution_count": 103,
     "metadata": {},
     "output_type": "execute_result"
    }
   ],
   "source": [
    "model = xgb.XGBClassifier(random_state=1)\n",
    "model.fit(x_train, y_train, early_stopping_rounds=50, eval_metric=\"auc\", eval_set=[(x_train, y_train), (x_test, y_test)])"
   ]
  },
  {
   "cell_type": "code",
   "execution_count": 105,
   "metadata": {},
   "outputs": [
    {
     "name": "stdout",
     "output_type": "stream",
     "text": [
      "Train-score: 0.896, Test-score: 0.725\n"
     ]
    }
   ],
   "source": [
    "train_score = roc_auc_score(y_train, model.predict(x_train, ntree_limit=model.best_ntree_limit))\n",
    "test_score = roc_auc_score(y_test, model.predict(x_test, ntree_limit=model.best_ntree_limit))\n",
    "\n",
    "print(f\"Train-score: {round(train_score, 3)}, Test-score: {round(test_score, 3)}\")"
   ]
  },
  {
   "cell_type": "markdown",
   "metadata": {},
   "source": [
    "Выводы: было бы лучше, если бы качество на трейне было чуть ближе к качеству на тесте. Сейчас разница почти в 0.2 (0.9-0.7)"
   ]
  },
  {
   "cell_type": "code",
   "execution_count": null,
   "metadata": {},
   "outputs": [],
   "source": []
  }
 ],
 "metadata": {
  "kernelspec": {
   "display_name": "Python 3",
   "language": "python",
   "name": "python3"
  },
  "language_info": {
   "codemirror_mode": {
    "name": "ipython",
    "version": 3
   },
   "file_extension": ".py",
   "mimetype": "text/x-python",
   "name": "python",
   "nbconvert_exporter": "python",
   "pygments_lexer": "ipython3",
   "version": "3.7.4"
  }
 },
 "nbformat": 4,
 "nbformat_minor": 4
}
